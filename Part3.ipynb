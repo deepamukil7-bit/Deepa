{
  "nbformat": 4,
  "nbformat_minor": 0,
  "metadata": {
    "colab": {
      "provenance": [],
      "authorship_tag": "ABX9TyM6aNDhm5WMAil3yni/O5U9",
      "include_colab_link": true
    },
    "kernelspec": {
      "name": "python3",
      "display_name": "Python 3"
    },
    "language_info": {
      "name": "python"
    }
  },
  "cells": [
    {
      "cell_type": "markdown",
      "metadata": {
        "id": "view-in-github",
        "colab_type": "text"
      },
      "source": [
        "<a href=\"https://colab.research.google.com/github/deepamukil7-bit/Deepa/blob/main/Part3.ipynb\" target=\"_parent\"><img src=\"https://colab.research.google.com/assets/colab-badge.svg\" alt=\"Open In Colab\"/></a>"
      ]
    },
    {
      "cell_type": "code",
      "execution_count": null,
      "metadata": {
        "id": "19EsXXPb1bRK",
        "colab": {
          "base_uri": "https://localhost:8080/"
        },
        "outputId": "fbb17b11-4b27-40e3-ddee-54ae623d68a2"
      },
      "outputs": [
        {
          "output_type": "stream",
          "name": "stdout",
          "text": [
            "   Item ID Category   Brand   Price   Color Size  Target Customer  \\\n",
            "0  ITEM056    Shoes    Zara  499.28    Blue   XS  College Student   \n",
            "1  ITEM099  Sweater   Gucci  498.25    Gray  XXL     New Employee   \n",
            "2  ITEM090  Sweater  Uniqlo  496.48   Black    M     New Employee   \n",
            "3  ITEM045  Sweater   Gucci  496.01  Purple  XXL     New Employee   \n",
            "4  ITEM063    Skirt   Gucci  495.69    Blue   XS     New Employee   \n",
            "\n",
            "                                         Description  \n",
            "0  A stylish blue shoes from Zara suitable for co...  \n",
            "1  A stylish gray sweater from Gucci suitable for...  \n",
            "2  A stylish black sweater from Uniqlo suitable f...  \n",
            "3  A stylish purple sweater from Gucci suitable f...  \n",
            "4  A stylish blue skirt from Gucci suitable for n...  \n"
          ]
        }
      ],
      "source": [
        "import pandas as pd\n",
        "df = (\n",
        "    pd.read_csv('https://raw.githubusercontent.com/deepamukil7-bit/Deepa/main/fashion_items.csv')       # Read CSV\n",
        "    .dropna()                             # Remove rows with missing values\n",
        "    .query('Price > 20')                  # Filter rows where the price is greater than 20\n",
        "    .sort_values('Price', ascending=False) # Sort by price in descending order\n",
        "    .reset_index(drop=True)               # Reset the index\n",
        ")\n",
        "\n",
        "# Display the first few rows of the dataframe\n",
        "print(df.head())"
      ]
    },
    {
      "cell_type": "code",
      "metadata": {
        "colab": {
          "base_uri": "https://localhost:8080/"
        },
        "id": "ac51484c",
        "outputId": "8971293b-a097-4256-ca69-6d018f06bda6"
      },
      "source": [
        "from langchain.document_loaders.csv_loader import CSVLoader\n",
        "\n",
        "# Initialize the CSVLoader with the file path\n",
        "loader = CSVLoader('/content/fashion_items.csv')\n",
        "\n",
        "# Load the data\n",
        "data = loader.load()\n",
        "\n",
        "# Display the first 10 documents\n",
        "for i, doc in enumerate(data[:10]):\n",
        "    print(f\"--- Document {i+1} ---\")\n",
        "    print(f\"Metadata: {doc.metadata}\")\n",
        "    print(f\"Page Content:\\n{doc.page_content}\")\n",
        "    print(\"-\" * 20)"
      ],
      "execution_count": null,
      "outputs": [
        {
          "output_type": "stream",
          "name": "stdout",
          "text": [
            "--- Document 1 ---\n",
            "Metadata: {'source': '/content/fashion_items.csv', 'row': 0}\n",
            "Page Content:\n",
            "Item ID: ITEM001\n",
            "Category: Sweater\n",
            "Brand: Levi's\n",
            "Price: 106.91\n",
            "Color: Black\n",
            "Size: S\n",
            "Target Customer: New Employee\n",
            "Description: A stylish black sweater from Levi's suitable for new employees.\n",
            "--------------------\n",
            "--- Document 2 ---\n",
            "Metadata: {'source': '/content/fashion_items.csv', 'row': 1}\n",
            "Page Content:\n",
            "Item ID: ITEM002\n",
            "Category: Bag\n",
            "Brand: Zara\n",
            "Price: 241.95\n",
            "Color: Brown\n",
            "Size: L\n",
            "Target Customer: College Student\n",
            "Description: A stylish brown bag from Zara suitable for college students.\n",
            "--------------------\n",
            "--- Document 3 ---\n",
            "Metadata: {'source': '/content/fashion_items.csv', 'row': 2}\n",
            "Page Content:\n",
            "Item ID: ITEM003\n",
            "Category: Shorts\n",
            "Brand: H&M\n",
            "Price: 128.32\n",
            "Color: Brown\n",
            "Size: XXL\n",
            "Target Customer: New Employee\n",
            "Description: A stylish brown shorts from H&M suitable for new employees.\n",
            "--------------------\n",
            "--- Document 4 ---\n",
            "Metadata: {'source': '/content/fashion_items.csv', 'row': 3}\n",
            "Page Content:\n",
            "Item ID: ITEM004\n",
            "Category: Jacket\n",
            "Brand: Nike\n",
            "Price: 333.6\n",
            "Color: Yellow\n",
            "Size: XL\n",
            "Target Customer: College Student\n",
            "Description: A stylish yellow jacket from Nike suitable for college students.\n",
            "--------------------\n",
            "--- Document 5 ---\n",
            "Metadata: {'source': '/content/fashion_items.csv', 'row': 4}\n",
            "Page Content:\n",
            "Item ID: ITEM005\n",
            "Category: Bag\n",
            "Brand: Nike\n",
            "Price: 203.42\n",
            "Color: Pink\n",
            "Size: XL\n",
            "Target Customer: College Student\n",
            "Description: A stylish pink bag from Nike suitable for college students.\n",
            "--------------------\n",
            "--- Document 6 ---\n",
            "Metadata: {'source': '/content/fashion_items.csv', 'row': 5}\n",
            "Page Content:\n",
            "Item ID: ITEM006\n",
            "Category: Dress\n",
            "Brand: Adidas\n",
            "Price: 319.28\n",
            "Color: Yellow\n",
            "Size: XL\n",
            "Target Customer: Executive\n",
            "Description: A stylish yellow dress from Adidas suitable for executives.\n",
            "--------------------\n",
            "--- Document 7 ---\n",
            "Metadata: {'source': '/content/fashion_items.csv', 'row': 6}\n",
            "Page Content:\n",
            "Item ID: ITEM007\n",
            "Category: Shoes\n",
            "Brand: Prada\n",
            "Price: 133.74\n",
            "Color: Green\n",
            "Size: XXL\n",
            "Target Customer: New Employee\n",
            "Description: A stylish green shoes from Prada suitable for new employees.\n",
            "--------------------\n",
            "--- Document 8 ---\n",
            "Metadata: {'source': '/content/fashion_items.csv', 'row': 7}\n",
            "Page Content:\n",
            "Item ID: ITEM008\n",
            "Category: T-shirt\n",
            "Brand: Prada\n",
            "Price: 71.63\n",
            "Color: Purple\n",
            "Size: M\n",
            "Target Customer: Executive\n",
            "Description: A stylish purple t-shirt from Prada suitable for executives.\n",
            "--------------------\n",
            "--- Document 9 ---\n",
            "Metadata: {'source': '/content/fashion_items.csv', 'row': 8}\n",
            "Page Content:\n",
            "Item ID: ITEM009\n",
            "Category: Bag\n",
            "Brand: Zara\n",
            "Price: 469.42\n",
            "Color: Yellow\n",
            "Size: XS\n",
            "Target Customer: College Student\n",
            "Description: A stylish yellow bag from Zara suitable for college students.\n",
            "--------------------\n",
            "--- Document 10 ---\n",
            "Metadata: {'source': '/content/fashion_items.csv', 'row': 9}\n",
            "Page Content:\n",
            "Item ID: ITEM010\n",
            "Category: Jacket\n",
            "Brand: H&M\n",
            "Price: 349.12\n",
            "Color: Pink\n",
            "Size: M\n",
            "Target Customer: New Employee\n",
            "Description: A stylish pink jacket from H&M suitable for new employees.\n",
            "--------------------\n"
          ]
        }
      ]
    },
    {
      "cell_type": "code",
      "metadata": {
        "colab": {
          "base_uri": "https://localhost:8080/"
        },
        "id": "c42bc754",
        "outputId": "1787d525-ca19-4fcb-9ccd-326d3cf60df4"
      },
      "source": [
        "!wget https://raw.githubusercontent.com/deepamukil7-bit/Deepa/main/fashion_items.csv -O /content/fashion_items.csv"
      ],
      "execution_count": null,
      "outputs": [
        {
          "output_type": "stream",
          "name": "stdout",
          "text": [
            "--2025-10-21 17:34:07--  https://raw.githubusercontent.com/deepamukil7-bit/Deepa/main/fashion_items.csv\n",
            "Resolving raw.githubusercontent.com (raw.githubusercontent.com)... 185.199.108.133, 185.199.109.133, 185.199.110.133, ...\n",
            "Connecting to raw.githubusercontent.com (raw.githubusercontent.com)|185.199.108.133|:443... connected.\n",
            "HTTP request sent, awaiting response... 200 OK\n",
            "Length: 11068 (11K) [text/plain]\n",
            "Saving to: ‘/content/fashion_items.csv’\n",
            "\n",
            "/content/fashion_it 100%[===================>]  10.81K  --.-KB/s    in 0.001s  \n",
            "\n",
            "2025-10-21 17:34:08 (13.0 MB/s) - ‘/content/fashion_items.csv’ saved [11068/11068]\n",
            "\n"
          ]
        }
      ]
    },
    {
      "cell_type": "code",
      "metadata": {
        "colab": {
          "base_uri": "https://localhost:8080/",
          "height": 1000
        },
        "id": "c034cb58",
        "outputId": "eecde06e-4135-47f8-9223-cc85f3fbb3ec"
      },
      "source": [
        "%pip install -U langchain-community"
      ],
      "execution_count": null,
      "outputs": [
        {
          "output_type": "stream",
          "name": "stdout",
          "text": [
            "Collecting langchain-community\n",
            "  Downloading langchain_community-0.4-py3-none-any.whl.metadata (3.0 kB)\n",
            "Collecting langchain-core<2.0.0,>=1.0.0 (from langchain-community)\n",
            "  Downloading langchain_core-1.0.0-py3-none-any.whl.metadata (3.4 kB)\n",
            "Collecting langchain-classic<2.0.0,>=1.0.0 (from langchain-community)\n",
            "  Downloading langchain_classic-1.0.0-py3-none-any.whl.metadata (3.9 kB)\n",
            "Requirement already satisfied: SQLAlchemy<3.0.0,>=1.4.0 in /usr/local/lib/python3.12/dist-packages (from langchain-community) (2.0.44)\n",
            "Collecting requests<3.0.0,>=2.32.5 (from langchain-community)\n",
            "  Downloading requests-2.32.5-py3-none-any.whl.metadata (4.9 kB)\n",
            "Requirement already satisfied: PyYAML<7.0.0,>=5.3.0 in /usr/local/lib/python3.12/dist-packages (from langchain-community) (6.0.3)\n",
            "Requirement already satisfied: aiohttp<4.0.0,>=3.8.3 in /usr/local/lib/python3.12/dist-packages (from langchain-community) (3.13.0)\n",
            "Requirement already satisfied: tenacity!=8.4.0,<10.0.0,>=8.1.0 in /usr/local/lib/python3.12/dist-packages (from langchain-community) (8.5.0)\n",
            "Collecting dataclasses-json<0.7.0,>=0.6.7 (from langchain-community)\n",
            "  Downloading dataclasses_json-0.6.7-py3-none-any.whl.metadata (25 kB)\n",
            "Requirement already satisfied: pydantic-settings<3.0.0,>=2.10.1 in /usr/local/lib/python3.12/dist-packages (from langchain-community) (2.11.0)\n",
            "Requirement already satisfied: langsmith<1.0.0,>=0.1.125 in /usr/local/lib/python3.12/dist-packages (from langchain-community) (0.4.35)\n",
            "Requirement already satisfied: httpx-sse<1.0.0,>=0.4.0 in /usr/local/lib/python3.12/dist-packages (from langchain-community) (0.4.3)\n",
            "Requirement already satisfied: numpy>=1.26.2 in /usr/local/lib/python3.12/dist-packages (from langchain-community) (2.0.2)\n",
            "Requirement already satisfied: aiohappyeyeballs>=2.5.0 in /usr/local/lib/python3.12/dist-packages (from aiohttp<4.0.0,>=3.8.3->langchain-community) (2.6.1)\n",
            "Requirement already satisfied: aiosignal>=1.4.0 in /usr/local/lib/python3.12/dist-packages (from aiohttp<4.0.0,>=3.8.3->langchain-community) (1.4.0)\n",
            "Requirement already satisfied: attrs>=17.3.0 in /usr/local/lib/python3.12/dist-packages (from aiohttp<4.0.0,>=3.8.3->langchain-community) (25.4.0)\n",
            "Requirement already satisfied: frozenlist>=1.1.1 in /usr/local/lib/python3.12/dist-packages (from aiohttp<4.0.0,>=3.8.3->langchain-community) (1.8.0)\n",
            "Requirement already satisfied: multidict<7.0,>=4.5 in /usr/local/lib/python3.12/dist-packages (from aiohttp<4.0.0,>=3.8.3->langchain-community) (6.7.0)\n",
            "Requirement already satisfied: propcache>=0.2.0 in /usr/local/lib/python3.12/dist-packages (from aiohttp<4.0.0,>=3.8.3->langchain-community) (0.4.1)\n",
            "Requirement already satisfied: yarl<2.0,>=1.17.0 in /usr/local/lib/python3.12/dist-packages (from aiohttp<4.0.0,>=3.8.3->langchain-community) (1.22.0)\n",
            "Collecting marshmallow<4.0.0,>=3.18.0 (from dataclasses-json<0.7.0,>=0.6.7->langchain-community)\n",
            "  Downloading marshmallow-3.26.1-py3-none-any.whl.metadata (7.3 kB)\n",
            "Collecting typing-inspect<1,>=0.4.0 (from dataclasses-json<0.7.0,>=0.6.7->langchain-community)\n",
            "  Downloading typing_inspect-0.9.0-py3-none-any.whl.metadata (1.5 kB)\n",
            "Collecting langchain-text-splitters<2.0.0,>=1.0.0 (from langchain-classic<2.0.0,>=1.0.0->langchain-community)\n",
            "  Downloading langchain_text_splitters-1.0.0-py3-none-any.whl.metadata (2.6 kB)\n",
            "Requirement already satisfied: pydantic<3.0.0,>=2.7.4 in /usr/local/lib/python3.12/dist-packages (from langchain-classic<2.0.0,>=1.0.0->langchain-community) (2.11.10)\n",
            "Requirement already satisfied: jsonpatch<2.0.0,>=1.33.0 in /usr/local/lib/python3.12/dist-packages (from langchain-core<2.0.0,>=1.0.0->langchain-community) (1.33)\n",
            "Requirement already satisfied: packaging<26.0.0,>=23.2.0 in /usr/local/lib/python3.12/dist-packages (from langchain-core<2.0.0,>=1.0.0->langchain-community) (25.0)\n",
            "Requirement already satisfied: typing-extensions<5.0.0,>=4.7.0 in /usr/local/lib/python3.12/dist-packages (from langchain-core<2.0.0,>=1.0.0->langchain-community) (4.15.0)\n",
            "Requirement already satisfied: httpx<1,>=0.23.0 in /usr/local/lib/python3.12/dist-packages (from langsmith<1.0.0,>=0.1.125->langchain-community) (0.28.1)\n",
            "Requirement already satisfied: orjson>=3.9.14 in /usr/local/lib/python3.12/dist-packages (from langsmith<1.0.0,>=0.1.125->langchain-community) (3.11.3)\n",
            "Requirement already satisfied: requests-toolbelt>=1.0.0 in /usr/local/lib/python3.12/dist-packages (from langsmith<1.0.0,>=0.1.125->langchain-community) (1.0.0)\n",
            "Requirement already satisfied: zstandard>=0.23.0 in /usr/local/lib/python3.12/dist-packages (from langsmith<1.0.0,>=0.1.125->langchain-community) (0.25.0)\n",
            "Requirement already satisfied: python-dotenv>=0.21.0 in /usr/local/lib/python3.12/dist-packages (from pydantic-settings<3.0.0,>=2.10.1->langchain-community) (1.1.1)\n",
            "Requirement already satisfied: typing-inspection>=0.4.0 in /usr/local/lib/python3.12/dist-packages (from pydantic-settings<3.0.0,>=2.10.1->langchain-community) (0.4.2)\n",
            "Requirement already satisfied: charset_normalizer<4,>=2 in /usr/local/lib/python3.12/dist-packages (from requests<3.0.0,>=2.32.5->langchain-community) (3.4.4)\n",
            "Requirement already satisfied: idna<4,>=2.5 in /usr/local/lib/python3.12/dist-packages (from requests<3.0.0,>=2.32.5->langchain-community) (3.11)\n",
            "Requirement already satisfied: urllib3<3,>=1.21.1 in /usr/local/lib/python3.12/dist-packages (from requests<3.0.0,>=2.32.5->langchain-community) (2.5.0)\n",
            "Requirement already satisfied: certifi>=2017.4.17 in /usr/local/lib/python3.12/dist-packages (from requests<3.0.0,>=2.32.5->langchain-community) (2025.10.5)\n",
            "Requirement already satisfied: greenlet>=1 in /usr/local/lib/python3.12/dist-packages (from SQLAlchemy<3.0.0,>=1.4.0->langchain-community) (3.2.4)\n",
            "Requirement already satisfied: anyio in /usr/local/lib/python3.12/dist-packages (from httpx<1,>=0.23.0->langsmith<1.0.0,>=0.1.125->langchain-community) (4.11.0)\n",
            "Requirement already satisfied: httpcore==1.* in /usr/local/lib/python3.12/dist-packages (from httpx<1,>=0.23.0->langsmith<1.0.0,>=0.1.125->langchain-community) (1.0.9)\n",
            "Requirement already satisfied: h11>=0.16 in /usr/local/lib/python3.12/dist-packages (from httpcore==1.*->httpx<1,>=0.23.0->langsmith<1.0.0,>=0.1.125->langchain-community) (0.16.0)\n",
            "Requirement already satisfied: jsonpointer>=1.9 in /usr/local/lib/python3.12/dist-packages (from jsonpatch<2.0.0,>=1.33.0->langchain-core<2.0.0,>=1.0.0->langchain-community) (3.0.0)\n",
            "Requirement already satisfied: annotated-types>=0.6.0 in /usr/local/lib/python3.12/dist-packages (from pydantic<3.0.0,>=2.7.4->langchain-classic<2.0.0,>=1.0.0->langchain-community) (0.7.0)\n",
            "Requirement already satisfied: pydantic-core==2.33.2 in /usr/local/lib/python3.12/dist-packages (from pydantic<3.0.0,>=2.7.4->langchain-classic<2.0.0,>=1.0.0->langchain-community) (2.33.2)\n",
            "Collecting mypy-extensions>=0.3.0 (from typing-inspect<1,>=0.4.0->dataclasses-json<0.7.0,>=0.6.7->langchain-community)\n",
            "  Downloading mypy_extensions-1.1.0-py3-none-any.whl.metadata (1.1 kB)\n",
            "Requirement already satisfied: sniffio>=1.1 in /usr/local/lib/python3.12/dist-packages (from anyio->httpx<1,>=0.23.0->langsmith<1.0.0,>=0.1.125->langchain-community) (1.3.1)\n",
            "Downloading langchain_community-0.4-py3-none-any.whl (2.5 MB)\n",
            "\u001b[2K   \u001b[90m━━━━━━━━━━━━━━━━━━━━━━━━━━━━━━━━━━━━━━━━\u001b[0m \u001b[32m2.5/2.5 MB\u001b[0m \u001b[31m29.1 MB/s\u001b[0m eta \u001b[36m0:00:00\u001b[0m\n",
            "\u001b[?25hDownloading dataclasses_json-0.6.7-py3-none-any.whl (28 kB)\n",
            "Downloading langchain_classic-1.0.0-py3-none-any.whl (1.0 MB)\n",
            "\u001b[2K   \u001b[90m━━━━━━━━━━━━━━━━━━━━━━━━━━━━━━━━━━━━━━━━\u001b[0m \u001b[32m1.0/1.0 MB\u001b[0m \u001b[31m49.3 MB/s\u001b[0m eta \u001b[36m0:00:00\u001b[0m\n",
            "\u001b[?25hDownloading langchain_core-1.0.0-py3-none-any.whl (467 kB)\n",
            "\u001b[2K   \u001b[90m━━━━━━━━━━━━━━━━━━━━━━━━━━━━━━━━━━━━━━━━\u001b[0m \u001b[32m467.2/467.2 kB\u001b[0m \u001b[31m25.6 MB/s\u001b[0m eta \u001b[36m0:00:00\u001b[0m\n",
            "\u001b[?25hDownloading requests-2.32.5-py3-none-any.whl (64 kB)\n",
            "\u001b[2K   \u001b[90m━━━━━━━━━━━━━━━━━━━━━━━━━━━━━━━━━━━━━━━━\u001b[0m \u001b[32m64.7/64.7 kB\u001b[0m \u001b[31m4.5 MB/s\u001b[0m eta \u001b[36m0:00:00\u001b[0m\n",
            "\u001b[?25hDownloading langchain_text_splitters-1.0.0-py3-none-any.whl (33 kB)\n",
            "Downloading marshmallow-3.26.1-py3-none-any.whl (50 kB)\n",
            "\u001b[2K   \u001b[90m━━━━━━━━━━━━━━━━━━━━━━━━━━━━━━━━━━━━━━━━\u001b[0m \u001b[32m50.9/50.9 kB\u001b[0m \u001b[31m3.3 MB/s\u001b[0m eta \u001b[36m0:00:00\u001b[0m\n",
            "\u001b[?25hDownloading typing_inspect-0.9.0-py3-none-any.whl (8.8 kB)\n",
            "Downloading mypy_extensions-1.1.0-py3-none-any.whl (5.0 kB)\n",
            "Installing collected packages: requests, mypy-extensions, marshmallow, typing-inspect, dataclasses-json, langchain-core, langchain-text-splitters, langchain-classic, langchain-community\n",
            "  Attempting uninstall: requests\n",
            "    Found existing installation: requests 2.32.4\n",
            "    Uninstalling requests-2.32.4:\n",
            "      Successfully uninstalled requests-2.32.4\n",
            "  Attempting uninstall: langchain-core\n",
            "    Found existing installation: langchain-core 0.3.79\n",
            "    Uninstalling langchain-core-0.3.79:\n",
            "      Successfully uninstalled langchain-core-0.3.79\n",
            "  Attempting uninstall: langchain-text-splitters\n",
            "    Found existing installation: langchain-text-splitters 0.3.11\n",
            "    Uninstalling langchain-text-splitters-0.3.11:\n",
            "      Successfully uninstalled langchain-text-splitters-0.3.11\n",
            "\u001b[31mERROR: pip's dependency resolver does not currently take into account all the packages that are installed. This behaviour is the source of the following dependency conflicts.\n",
            "google-colab 1.0.0 requires requests==2.32.4, but you have requests 2.32.5 which is incompatible.\n",
            "langchain 0.3.27 requires langchain-core<1.0.0,>=0.3.72, but you have langchain-core 1.0.0 which is incompatible.\n",
            "langchain 0.3.27 requires langchain-text-splitters<1.0.0,>=0.3.9, but you have langchain-text-splitters 1.0.0 which is incompatible.\u001b[0m\u001b[31m\n",
            "\u001b[0mSuccessfully installed dataclasses-json-0.6.7 langchain-classic-1.0.0 langchain-community-0.4 langchain-core-1.0.0 langchain-text-splitters-1.0.0 marshmallow-3.26.1 mypy-extensions-1.1.0 requests-2.32.5 typing-inspect-0.9.0\n"
          ]
        },
        {
          "output_type": "display_data",
          "data": {
            "application/vnd.colab-display-data+json": {
              "pip_warning": {
                "packages": [
                  "langchain_core"
                ]
              },
              "id": "9fed8f90608b48919db443e40b9e42e2"
            }
          },
          "metadata": {}
        }
      ]
    },
    {
      "cell_type": "code",
      "metadata": {
        "colab": {
          "base_uri": "https://localhost:8080/",
          "height": 1000
        },
        "id": "d3520968",
        "outputId": "25c82e6c-93ab-445e-e219-9acc0e88e158"
      },
      "source": [
        "%pip install -U langchain-community"
      ],
      "execution_count": null,
      "outputs": [
        {
          "output_type": "stream",
          "name": "stdout",
          "text": [
            "Collecting langchain-community\n",
            "  Downloading langchain_community-0.4-py3-none-any.whl.metadata (3.0 kB)\n",
            "Collecting langchain-core<2.0.0,>=1.0.0 (from langchain-community)\n",
            "  Downloading langchain_core-1.0.0-py3-none-any.whl.metadata (3.4 kB)\n",
            "Collecting langchain-classic<2.0.0,>=1.0.0 (from langchain-community)\n",
            "  Downloading langchain_classic-1.0.0-py3-none-any.whl.metadata (3.9 kB)\n",
            "Requirement already satisfied: SQLAlchemy<3.0.0,>=1.4.0 in /usr/local/lib/python3.12/dist-packages (from langchain-community) (2.0.44)\n",
            "Collecting requests<3.0.0,>=2.32.5 (from langchain-community)\n",
            "  Downloading requests-2.32.5-py3-none-any.whl.metadata (4.9 kB)\n",
            "Requirement already satisfied: PyYAML<7.0.0,>=5.3.0 in /usr/local/lib/python3.12/dist-packages (from langchain-community) (6.0.3)\n",
            "Requirement already satisfied: aiohttp<4.0.0,>=3.8.3 in /usr/local/lib/python3.12/dist-packages (from langchain-community) (3.13.0)\n",
            "Requirement already satisfied: tenacity!=8.4.0,<10.0.0,>=8.1.0 in /usr/local/lib/python3.12/dist-packages (from langchain-community) (8.5.0)\n",
            "Collecting dataclasses-json<0.7.0,>=0.6.7 (from langchain-community)\n",
            "  Downloading dataclasses_json-0.6.7-py3-none-any.whl.metadata (25 kB)\n",
            "Requirement already satisfied: pydantic-settings<3.0.0,>=2.10.1 in /usr/local/lib/python3.12/dist-packages (from langchain-community) (2.11.0)\n",
            "Requirement already satisfied: langsmith<1.0.0,>=0.1.125 in /usr/local/lib/python3.12/dist-packages (from langchain-community) (0.4.35)\n",
            "Requirement already satisfied: httpx-sse<1.0.0,>=0.4.0 in /usr/local/lib/python3.12/dist-packages (from langchain-community) (0.4.3)\n",
            "Requirement already satisfied: numpy>=1.26.2 in /usr/local/lib/python3.12/dist-packages (from langchain-community) (2.0.2)\n",
            "Requirement already satisfied: aiohappyeyeballs>=2.5.0 in /usr/local/lib/python3.12/dist-packages (from aiohttp<4.0.0,>=3.8.3->langchain-community) (2.6.1)\n",
            "Requirement already satisfied: aiosignal>=1.4.0 in /usr/local/lib/python3.12/dist-packages (from aiohttp<4.0.0,>=3.8.3->langchain-community) (1.4.0)\n",
            "Requirement already satisfied: attrs>=17.3.0 in /usr/local/lib/python3.12/dist-packages (from aiohttp<4.0.0,>=3.8.3->langchain-community) (25.4.0)\n",
            "Requirement already satisfied: frozenlist>=1.1.1 in /usr/local/lib/python3.12/dist-packages (from aiohttp<4.0.0,>=3.8.3->langchain-community) (1.8.0)\n",
            "Requirement already satisfied: multidict<7.0,>=4.5 in /usr/local/lib/python3.12/dist-packages (from aiohttp<4.0.0,>=3.8.3->langchain-community) (6.7.0)\n",
            "Requirement already satisfied: propcache>=0.2.0 in /usr/local/lib/python3.12/dist-packages (from aiohttp<4.0.0,>=3.8.3->langchain-community) (0.4.1)\n",
            "Requirement already satisfied: yarl<2.0,>=1.17.0 in /usr/local/lib/python3.12/dist-packages (from aiohttp<4.0.0,>=3.8.3->langchain-community) (1.22.0)\n",
            "Collecting marshmallow<4.0.0,>=3.18.0 (from dataclasses-json<0.7.0,>=0.6.7->langchain-community)\n",
            "  Downloading marshmallow-3.26.1-py3-none-any.whl.metadata (7.3 kB)\n",
            "Collecting typing-inspect<1,>=0.4.0 (from dataclasses-json<0.7.0,>=0.6.7->langchain-community)\n",
            "  Downloading typing_inspect-0.9.0-py3-none-any.whl.metadata (1.5 kB)\n",
            "Collecting langchain-text-splitters<2.0.0,>=1.0.0 (from langchain-classic<2.0.0,>=1.0.0->langchain-community)\n",
            "  Downloading langchain_text_splitters-1.0.0-py3-none-any.whl.metadata (2.6 kB)\n",
            "Requirement already satisfied: pydantic<3.0.0,>=2.7.4 in /usr/local/lib/python3.12/dist-packages (from langchain-classic<2.0.0,>=1.0.0->langchain-community) (2.11.10)\n",
            "Requirement already satisfied: jsonpatch<2.0.0,>=1.33.0 in /usr/local/lib/python3.12/dist-packages (from langchain-core<2.0.0,>=1.0.0->langchain-community) (1.33)\n",
            "Requirement already satisfied: packaging<26.0.0,>=23.2.0 in /usr/local/lib/python3.12/dist-packages (from langchain-core<2.0.0,>=1.0.0->langchain-community) (25.0)\n",
            "Requirement already satisfied: typing-extensions<5.0.0,>=4.7.0 in /usr/local/lib/python3.12/dist-packages (from langchain-core<2.0.0,>=1.0.0->langchain-community) (4.15.0)\n",
            "Requirement already satisfied: httpx<1,>=0.23.0 in /usr/local/lib/python3.12/dist-packages (from langsmith<1.0.0,>=0.1.125->langchain-community) (0.28.1)\n",
            "Requirement already satisfied: orjson>=3.9.14 in /usr/local/lib/python3.12/dist-packages (from langsmith<1.0.0,>=0.1.125->langchain-community) (3.11.3)\n",
            "Requirement already satisfied: requests-toolbelt>=1.0.0 in /usr/local/lib/python3.12/dist-packages (from langsmith<1.0.0,>=0.1.125->langchain-community) (1.0.0)\n",
            "Requirement already satisfied: zstandard>=0.23.0 in /usr/local/lib/python3.12/dist-packages (from langsmith<1.0.0,>=0.1.125->langchain-community) (0.25.0)\n",
            "Requirement already satisfied: python-dotenv>=0.21.0 in /usr/local/lib/python3.12/dist-packages (from pydantic-settings<3.0.0,>=2.10.1->langchain-community) (1.1.1)\n",
            "Requirement already satisfied: typing-inspection>=0.4.0 in /usr/local/lib/python3.12/dist-packages (from pydantic-settings<3.0.0,>=2.10.1->langchain-community) (0.4.2)\n",
            "Requirement already satisfied: charset_normalizer<4,>=2 in /usr/local/lib/python3.12/dist-packages (from requests<3.0.0,>=2.32.5->langchain-community) (3.4.4)\n",
            "Requirement already satisfied: idna<4,>=2.5 in /usr/local/lib/python3.12/dist-packages (from requests<3.0.0,>=2.32.5->langchain-community) (3.11)\n",
            "Requirement already satisfied: urllib3<3,>=1.21.1 in /usr/local/lib/python3.12/dist-packages (from requests<3.0.0,>=2.32.5->langchain-community) (2.5.0)\n",
            "Requirement already satisfied: certifi>=2017.4.17 in /usr/local/lib/python3.12/dist-packages (from requests<3.0.0,>=2.32.5->langchain-community) (2025.10.5)\n",
            "Requirement already satisfied: greenlet>=1 in /usr/local/lib/python3.12/dist-packages (from SQLAlchemy<3.0.0,>=1.4.0->langchain-community) (3.2.4)\n",
            "Requirement already satisfied: anyio in /usr/local/lib/python3.12/dist-packages (from httpx<1,>=0.23.0->langsmith<1.0.0,>=0.1.125->langchain-community) (4.11.0)\n",
            "Requirement already satisfied: httpcore==1.* in /usr/local/lib/python3.12/dist-packages (from httpx<1,>=0.23.0->langsmith<1.0.0,>=0.1.125->langchain-community) (1.0.9)\n",
            "Requirement already satisfied: h11>=0.16 in /usr/local/lib/python3.12/dist-packages (from httpcore==1.*->httpx<1,>=0.23.0->langsmith<1.0.0,>=0.1.125->langchain-community) (0.16.0)\n",
            "Requirement already satisfied: jsonpointer>=1.9 in /usr/local/lib/python3.12/dist-packages (from jsonpatch<2.0.0,>=1.33.0->langchain-core<2.0.0,>=1.0.0->langchain-community) (3.0.0)\n",
            "Requirement already satisfied: annotated-types>=0.6.0 in /usr/local/lib/python3.12/dist-packages (from pydantic<3.0.0,>=2.7.4->langchain-classic<2.0.0,>=1.0.0->langchain-community) (0.7.0)\n",
            "Requirement already satisfied: pydantic-core==2.33.2 in /usr/local/lib/python3.12/dist-packages (from pydantic<3.0.0,>=2.7.4->langchain-classic<2.0.0,>=1.0.0->langchain-community) (2.33.2)\n",
            "Collecting mypy-extensions>=0.3.0 (from typing-inspect<1,>=0.4.0->dataclasses-json<0.7.0,>=0.6.7->langchain-community)\n",
            "  Downloading mypy_extensions-1.1.0-py3-none-any.whl.metadata (1.1 kB)\n",
            "Requirement already satisfied: sniffio>=1.1 in /usr/local/lib/python3.12/dist-packages (from anyio->httpx<1,>=0.23.0->langsmith<1.0.0,>=0.1.125->langchain-community) (1.3.1)\n",
            "Downloading langchain_community-0.4-py3-none-any.whl (2.5 MB)\n",
            "\u001b[2K   \u001b[90m━━━━━━━━━━━━━━━━━━━━━━━━━━━━━━━━━━━━━━━━\u001b[0m \u001b[32m2.5/2.5 MB\u001b[0m \u001b[31m33.4 MB/s\u001b[0m eta \u001b[36m0:00:00\u001b[0m\n",
            "\u001b[?25hDownloading dataclasses_json-0.6.7-py3-none-any.whl (28 kB)\n",
            "Downloading langchain_classic-1.0.0-py3-none-any.whl (1.0 MB)\n",
            "\u001b[2K   \u001b[90m━━━━━━━━━━━━━━━━━━━━━━━━━━━━━━━━━━━━━━━━\u001b[0m \u001b[32m1.0/1.0 MB\u001b[0m \u001b[31m47.7 MB/s\u001b[0m eta \u001b[36m0:00:00\u001b[0m\n",
            "\u001b[?25hDownloading langchain_core-1.0.0-py3-none-any.whl (467 kB)\n",
            "\u001b[2K   \u001b[90m━━━━━━━━━━━━━━━━━━━━━━━━━━━━━━━━━━━━━━━━\u001b[0m \u001b[32m467.2/467.2 kB\u001b[0m \u001b[31m28.3 MB/s\u001b[0m eta \u001b[36m0:00:00\u001b[0m\n",
            "\u001b[?25hDownloading requests-2.32.5-py3-none-any.whl (64 kB)\n",
            "\u001b[2K   \u001b[90m━━━━━━━━━━━━━━━━━━━━━━━━━━━━━━━━━━━━━━━━\u001b[0m \u001b[32m64.7/64.7 kB\u001b[0m \u001b[31m4.7 MB/s\u001b[0m eta \u001b[36m0:00:00\u001b[0m\n",
            "\u001b[?25hDownloading langchain_text_splitters-1.0.0-py3-none-any.whl (33 kB)\n",
            "Downloading marshmallow-3.26.1-py3-none-any.whl (50 kB)\n",
            "\u001b[2K   \u001b[90m━━━━━━━━━━━━━━━━━━━━━━━━━━━━━━━━━━━━━━━━\u001b[0m \u001b[32m50.9/50.9 kB\u001b[0m \u001b[31m3.4 MB/s\u001b[0m eta \u001b[36m0:00:00\u001b[0m\n",
            "\u001b[?25hDownloading typing_inspect-0.9.0-py3-none-any.whl (8.8 kB)\n",
            "Downloading mypy_extensions-1.1.0-py3-none-any.whl (5.0 kB)\n",
            "Installing collected packages: requests, mypy-extensions, marshmallow, typing-inspect, dataclasses-json, langchain-core, langchain-text-splitters, langchain-classic, langchain-community\n",
            "  Attempting uninstall: requests\n",
            "    Found existing installation: requests 2.32.4\n",
            "    Uninstalling requests-2.32.4:\n",
            "      Successfully uninstalled requests-2.32.4\n",
            "  Attempting uninstall: langchain-core\n",
            "    Found existing installation: langchain-core 0.3.79\n",
            "    Uninstalling langchain-core-0.3.79:\n",
            "      Successfully uninstalled langchain-core-0.3.79\n",
            "  Attempting uninstall: langchain-text-splitters\n",
            "    Found existing installation: langchain-text-splitters 0.3.11\n",
            "    Uninstalling langchain-text-splitters-0.3.11:\n",
            "      Successfully uninstalled langchain-text-splitters-0.3.11\n",
            "\u001b[31mERROR: pip's dependency resolver does not currently take into account all the packages that are installed. This behaviour is the source of the following dependency conflicts.\n",
            "google-colab 1.0.0 requires requests==2.32.4, but you have requests 2.32.5 which is incompatible.\n",
            "langchain 0.3.27 requires langchain-core<1.0.0,>=0.3.72, but you have langchain-core 1.0.0 which is incompatible.\n",
            "langchain 0.3.27 requires langchain-text-splitters<1.0.0,>=0.3.9, but you have langchain-text-splitters 1.0.0 which is incompatible.\u001b[0m\u001b[31m\n",
            "\u001b[0mSuccessfully installed dataclasses-json-0.6.7 langchain-classic-1.0.0 langchain-community-0.4 langchain-core-1.0.0 langchain-text-splitters-1.0.0 marshmallow-3.26.1 mypy-extensions-1.1.0 requests-2.32.5 typing-inspect-0.9.0\n"
          ]
        },
        {
          "output_type": "display_data",
          "data": {
            "application/vnd.colab-display-data+json": {
              "pip_warning": {
                "packages": [
                  "langchain_core"
                ]
              },
              "id": "d1fab84fd5754664bc25dac5a1eb4502"
            }
          },
          "metadata": {}
        }
      ]
    },
    {
      "cell_type": "code",
      "metadata": {
        "colab": {
          "base_uri": "https://localhost:8080/"
        },
        "id": "b9d9aacf",
        "outputId": "51d6870f-4359-447f-c68b-9d0bf32f1073"
      },
      "source": [
        "from langchain.document_loaders.csv_loader import CSVLoader\n",
        "\n",
        "# Initialize the CSVLoader with the file path\n",
        "loader = CSVLoader('fashion_items.csv')\n",
        "\n",
        "# Load the data\n",
        "data = loader.load()\n",
        "\n",
        "# Print the loaded data (optional, for demonstration)\n",
        "print(data)"
      ],
      "execution_count": null,
      "outputs": [
        {
          "output_type": "stream",
          "name": "stdout",
          "text": [
            "[Document(metadata={'source': 'fashion_items.csv', 'row': 0}, page_content=\"Item ID: ITEM001\\nCategory: Sweater\\nBrand: Levi's\\nPrice: 106.91\\nColor: Black\\nSize: S\\nTarget Customer: New Employee\\nDescription: A stylish black sweater from Levi's suitable for new employees.\"), Document(metadata={'source': 'fashion_items.csv', 'row': 1}, page_content='Item ID: ITEM002\\nCategory: Bag\\nBrand: Zara\\nPrice: 241.95\\nColor: Brown\\nSize: L\\nTarget Customer: College Student\\nDescription: A stylish brown bag from Zara suitable for college students.'), Document(metadata={'source': 'fashion_items.csv', 'row': 2}, page_content='Item ID: ITEM003\\nCategory: Shorts\\nBrand: H&M\\nPrice: 128.32\\nColor: Brown\\nSize: XXL\\nTarget Customer: New Employee\\nDescription: A stylish brown shorts from H&M suitable for new employees.'), Document(metadata={'source': 'fashion_items.csv', 'row': 3}, page_content='Item ID: ITEM004\\nCategory: Jacket\\nBrand: Nike\\nPrice: 333.6\\nColor: Yellow\\nSize: XL\\nTarget Customer: College Student\\nDescription: A stylish yellow jacket from Nike suitable for college students.'), Document(metadata={'source': 'fashion_items.csv', 'row': 4}, page_content='Item ID: ITEM005\\nCategory: Bag\\nBrand: Nike\\nPrice: 203.42\\nColor: Pink\\nSize: XL\\nTarget Customer: College Student\\nDescription: A stylish pink bag from Nike suitable for college students.'), Document(metadata={'source': 'fashion_items.csv', 'row': 5}, page_content='Item ID: ITEM006\\nCategory: Dress\\nBrand: Adidas\\nPrice: 319.28\\nColor: Yellow\\nSize: XL\\nTarget Customer: Executive\\nDescription: A stylish yellow dress from Adidas suitable for executives.'), Document(metadata={'source': 'fashion_items.csv', 'row': 6}, page_content='Item ID: ITEM007\\nCategory: Shoes\\nBrand: Prada\\nPrice: 133.74\\nColor: Green\\nSize: XXL\\nTarget Customer: New Employee\\nDescription: A stylish green shoes from Prada suitable for new employees.'), Document(metadata={'source': 'fashion_items.csv', 'row': 7}, page_content='Item ID: ITEM008\\nCategory: T-shirt\\nBrand: Prada\\nPrice: 71.63\\nColor: Purple\\nSize: M\\nTarget Customer: Executive\\nDescription: A stylish purple t-shirt from Prada suitable for executives.'), Document(metadata={'source': 'fashion_items.csv', 'row': 8}, page_content='Item ID: ITEM009\\nCategory: Bag\\nBrand: Zara\\nPrice: 469.42\\nColor: Yellow\\nSize: XS\\nTarget Customer: College Student\\nDescription: A stylish yellow bag from Zara suitable for college students.'), Document(metadata={'source': 'fashion_items.csv', 'row': 9}, page_content='Item ID: ITEM010\\nCategory: Jacket\\nBrand: H&M\\nPrice: 349.12\\nColor: Pink\\nSize: M\\nTarget Customer: New Employee\\nDescription: A stylish pink jacket from H&M suitable for new employees.'), Document(metadata={'source': 'fashion_items.csv', 'row': 10}, page_content='Item ID: ITEM011\\nCategory: Hat\\nBrand: Puma\\nPrice: 66.74\\nColor: Gray\\nSize: L\\nTarget Customer: New Employee\\nDescription: A stylish gray hat from Puma suitable for new employees.'), Document(metadata={'source': 'fashion_items.csv', 'row': 11}, page_content='Item ID: ITEM012\\nCategory: T-shirt\\nBrand: Uniqlo\\nPrice: 293.51\\nColor: Pink\\nSize: XS\\nTarget Customer: College Student\\nDescription: A stylish pink t-shirt from Uniqlo suitable for college students.'), Document(metadata={'source': 'fashion_items.csv', 'row': 12}, page_content='Item ID: ITEM013\\nCategory: Bag\\nBrand: Nike\\nPrice: 196.88\\nColor: Yellow\\nSize: XXL\\nTarget Customer: Executive\\nDescription: A stylish yellow bag from Nike suitable for executives.'), Document(metadata={'source': 'fashion_items.csv', 'row': 13}, page_content='Item ID: ITEM014\\nCategory: Shoes\\nBrand: Uniqlo\\nPrice: 106.54\\nColor: Black\\nSize: S\\nTarget Customer: New Employee\\nDescription: A stylish black shoes from Uniqlo suitable for new employees.'), Document(metadata={'source': 'fashion_items.csv', 'row': 14}, page_content='Item ID: ITEM015\\nCategory: Skirt\\nBrand: Nike\\nPrice: 139.59\\nColor: Brown\\nSize: M\\nTarget Customer: College Student\\nDescription: A stylish brown skirt from Nike suitable for college students.'), Document(metadata={'source': 'fashion_items.csv', 'row': 15}, page_content='Item ID: ITEM016\\nCategory: Dress\\nBrand: Uniqlo\\nPrice: 383.08\\nColor: Brown\\nSize: S\\nTarget Customer: New Employee\\nDescription: A stylish brown dress from Uniqlo suitable for new employees.'), Document(metadata={'source': 'fashion_items.csv', 'row': 16}, page_content='Item ID: ITEM017\\nCategory: Hat\\nBrand: Uniqlo\\nPrice: 86.04\\nColor: Gray\\nSize: XS\\nTarget Customer: Executive\\nDescription: A stylish gray hat from Uniqlo suitable for executives.'), Document(metadata={'source': 'fashion_items.csv', 'row': 17}, page_content='Item ID: ITEM018\\nCategory: Jeans\\nBrand: Adidas\\nPrice: 329.33\\nColor: Pink\\nSize: M\\nTarget Customer: New Employee\\nDescription: A stylish pink jeans from Adidas suitable for new employees.'), Document(metadata={'source': 'fashion_items.csv', 'row': 18}, page_content='Item ID: ITEM019\\nCategory: T-shirt\\nBrand: Reebok\\nPrice: 238.36\\nColor: Gray\\nSize: S\\nTarget Customer: Executive\\nDescription: A stylish gray t-shirt from Reebok suitable for executives.'), Document(metadata={'source': 'fashion_items.csv', 'row': 19}, page_content=\"Item ID: ITEM020\\nCategory: Jeans\\nBrand: Levi's\\nPrice: 443.83\\nColor: Purple\\nSize: XXL\\nTarget Customer: College Student\\nDescription: A stylish purple jeans from Levi's suitable for college students.\"), Document(metadata={'source': 'fashion_items.csv', 'row': 20}, page_content=\"Item ID: ITEM021\\nCategory: Bag\\nBrand: Levi's\\nPrice: 156.32\\nColor: Brown\\nSize: XL\\nTarget Customer: Executive\\nDescription: A stylish brown bag from Levi's suitable for executives.\"), Document(metadata={'source': 'fashion_items.csv', 'row': 21}, page_content='Item ID: ITEM022\\nCategory: Shoes\\nBrand: Prada\\nPrice: 263.33\\nColor: Black\\nSize: XXL\\nTarget Customer: College Student\\nDescription: A stylish black shoes from Prada suitable for college students.'), Document(metadata={'source': 'fashion_items.csv', 'row': 22}, page_content='Item ID: ITEM023\\nCategory: Sweater\\nBrand: Reebok\\nPrice: 114.79\\nColor: Blue\\nSize: L\\nTarget Customer: College Student\\nDescription: A stylish blue sweater from Reebok suitable for college students.'), Document(metadata={'source': 'fashion_items.csv', 'row': 23}, page_content='Item ID: ITEM024\\nCategory: Jacket\\nBrand: H&M\\nPrice: 84.95\\nColor: Yellow\\nSize: XL\\nTarget Customer: College Student\\nDescription: A stylish yellow jacket from H&M suitable for college students.'), Document(metadata={'source': 'fashion_items.csv', 'row': 24}, page_content='Item ID: ITEM025\\nCategory: Jacket\\nBrand: Prada\\nPrice: 209.1\\nColor: Yellow\\nSize: S\\nTarget Customer: Executive\\nDescription: A stylish yellow jacket from Prada suitable for executives.'), Document(metadata={'source': 'fashion_items.csv', 'row': 25}, page_content=\"Item ID: ITEM026\\nCategory: Bag\\nBrand: Levi's\\nPrice: 437.02\\nColor: Black\\nSize: XL\\nTarget Customer: New Employee\\nDescription: A stylish black bag from Levi's suitable for new employees.\"), Document(metadata={'source': 'fashion_items.csv', 'row': 26}, page_content=\"Item ID: ITEM027\\nCategory: Sweater\\nBrand: Levi's\\nPrice: 124.4\\nColor: Brown\\nSize: XL\\nTarget Customer: College Student\\nDescription: A stylish brown sweater from Levi's suitable for college students.\"), Document(metadata={'source': 'fashion_items.csv', 'row': 27}, page_content='Item ID: ITEM028\\nCategory: Skirt\\nBrand: H&M\\nPrice: 423.66\\nColor: Green\\nSize: XS\\nTarget Customer: Executive\\nDescription: A stylish green skirt from H&M suitable for executives.'), Document(metadata={'source': 'fashion_items.csv', 'row': 28}, page_content='Item ID: ITEM029\\nCategory: Dress\\nBrand: Zara\\nPrice: 383.34\\nColor: Black\\nSize: M\\nTarget Customer: College Student\\nDescription: A stylish black dress from Zara suitable for college students.'), Document(metadata={'source': 'fashion_items.csv', 'row': 29}, page_content='Item ID: ITEM030\\nCategory: Shorts\\nBrand: Prada\\nPrice: 478.66\\nColor: Brown\\nSize: XS\\nTarget Customer: Executive\\nDescription: A stylish brown shorts from Prada suitable for executives.'), Document(metadata={'source': 'fashion_items.csv', 'row': 30}, page_content='Item ID: ITEM031\\nCategory: Skirt\\nBrand: Uniqlo\\nPrice: 306.73\\nColor: Blue\\nSize: M\\nTarget Customer: Executive\\nDescription: A stylish blue skirt from Uniqlo suitable for executives.'), Document(metadata={'source': 'fashion_items.csv', 'row': 31}, page_content='Item ID: ITEM032\\nCategory: T-shirt\\nBrand: Puma\\nPrice: 383.06\\nColor: Gray\\nSize: XXL\\nTarget Customer: College Student\\nDescription: A stylish gray t-shirt from Puma suitable for college students.'), Document(metadata={'source': 'fashion_items.csv', 'row': 32}, page_content=\"Item ID: ITEM033\\nCategory: Bag\\nBrand: Levi's\\nPrice: 35.66\\nColor: Blue\\nSize: S\\nTarget Customer: New Employee\\nDescription: A stylish blue bag from Levi's suitable for new employees.\"), Document(metadata={'source': 'fashion_items.csv', 'row': 33}, page_content='Item ID: ITEM034\\nCategory: Shoes\\nBrand: Adidas\\nPrice: 135.28\\nColor: Yellow\\nSize: M\\nTarget Customer: College Student\\nDescription: A stylish yellow shoes from Adidas suitable for college students.'), Document(metadata={'source': 'fashion_items.csv', 'row': 34}, page_content=\"Item ID: ITEM035\\nCategory: Jeans\\nBrand: Levi's\\nPrice: 88.65\\nColor: Black\\nSize: XL\\nTarget Customer: Executive\\nDescription: A stylish black jeans from Levi's suitable for executives.\"), Document(metadata={'source': 'fashion_items.csv', 'row': 35}, page_content='Item ID: ITEM036\\nCategory: Dress\\nBrand: Puma\\nPrice: 255.33\\nColor: Black\\nSize: XS\\nTarget Customer: Executive\\nDescription: A stylish black dress from Puma suitable for executives.'), Document(metadata={'source': 'fashion_items.csv', 'row': 36}, page_content='Item ID: ITEM037\\nCategory: Hat\\nBrand: H&M\\nPrice: 163.65\\nColor: Gray\\nSize: XL\\nTarget Customer: New Employee\\nDescription: A stylish gray hat from H&M suitable for new employees.'), Document(metadata={'source': 'fashion_items.csv', 'row': 37}, page_content='Item ID: ITEM038\\nCategory: Sweater\\nBrand: Gucci\\nPrice: 99.92\\nColor: Red\\nSize: XS\\nTarget Customer: Executive\\nDescription: A stylish red sweater from Gucci suitable for executives.'), Document(metadata={'source': 'fashion_items.csv', 'row': 38}, page_content='Item ID: ITEM039\\nCategory: Hat\\nBrand: H&M\\nPrice: 447.06\\nColor: Red\\nSize: M\\nTarget Customer: College Student\\nDescription: A stylish red hat from H&M suitable for college students.'), Document(metadata={'source': 'fashion_items.csv', 'row': 39}, page_content='Item ID: ITEM040\\nCategory: Dress\\nBrand: Uniqlo\\nPrice: 476.3\\nColor: Yellow\\nSize: XS\\nTarget Customer: New Employee\\nDescription: A stylish yellow dress from Uniqlo suitable for new employees.'), Document(metadata={'source': 'fashion_items.csv', 'row': 40}, page_content='Item ID: ITEM041\\nCategory: T-shirt\\nBrand: Nike\\nPrice: 182.7\\nColor: Purple\\nSize: M\\nTarget Customer: New Employee\\nDescription: A stylish purple t-shirt from Nike suitable for new employees.'), Document(metadata={'source': 'fashion_items.csv', 'row': 41}, page_content='Item ID: ITEM042\\nCategory: Shorts\\nBrand: Gucci\\nPrice: 228.45\\nColor: Red\\nSize: S\\nTarget Customer: Executive\\nDescription: A stylish red shorts from Gucci suitable for executives.'), Document(metadata={'source': 'fashion_items.csv', 'row': 42}, page_content='Item ID: ITEM043\\nCategory: Jeans\\nBrand: Uniqlo\\nPrice: 62.71\\nColor: Pink\\nSize: XXL\\nTarget Customer: New Employee\\nDescription: A stylish pink jeans from Uniqlo suitable for new employees.'), Document(metadata={'source': 'fashion_items.csv', 'row': 43}, page_content='Item ID: ITEM044\\nCategory: Hat\\nBrand: Adidas\\nPrice: 49.48\\nColor: Brown\\nSize: XXL\\nTarget Customer: New Employee\\nDescription: A stylish brown hat from Adidas suitable for new employees.'), Document(metadata={'source': 'fashion_items.csv', 'row': 44}, page_content='Item ID: ITEM045\\nCategory: Sweater\\nBrand: Gucci\\nPrice: 496.01\\nColor: Purple\\nSize: XXL\\nTarget Customer: New Employee\\nDescription: A stylish purple sweater from Gucci suitable for new employees.'), Document(metadata={'source': 'fashion_items.csv', 'row': 45}, page_content='Item ID: ITEM046\\nCategory: Bag\\nBrand: Zara\\nPrice: 331.3\\nColor: Red\\nSize: XXL\\nTarget Customer: Executive\\nDescription: A stylish red bag from Zara suitable for executives.'), Document(metadata={'source': 'fashion_items.csv', 'row': 46}, page_content='Item ID: ITEM047\\nCategory: Jeans\\nBrand: Adidas\\nPrice: 208.74\\nColor: Green\\nSize: S\\nTarget Customer: Executive\\nDescription: A stylish green jeans from Adidas suitable for executives.'), Document(metadata={'source': 'fashion_items.csv', 'row': 47}, page_content='Item ID: ITEM048\\nCategory: Jeans\\nBrand: Adidas\\nPrice: 250.22\\nColor: Red\\nSize: S\\nTarget Customer: College Student\\nDescription: A stylish red jeans from Adidas suitable for college students.'), Document(metadata={'source': 'fashion_items.csv', 'row': 48}, page_content='Item ID: ITEM049\\nCategory: Jacket\\nBrand: Zara\\nPrice: 270.5\\nColor: Brown\\nSize: M\\nTarget Customer: New Employee\\nDescription: A stylish brown jacket from Zara suitable for new employees.'), Document(metadata={'source': 'fashion_items.csv', 'row': 49}, page_content='Item ID: ITEM050\\nCategory: Jacket\\nBrand: Gucci\\nPrice: 269.19\\nColor: Brown\\nSize: XL\\nTarget Customer: New Employee\\nDescription: A stylish brown jacket from Gucci suitable for new employees.'), Document(metadata={'source': 'fashion_items.csv', 'row': 50}, page_content='Item ID: ITEM051\\nCategory: Bag\\nBrand: Nike\\nPrice: 169.08\\nColor: Gray\\nSize: S\\nTarget Customer: Executive\\nDescription: A stylish gray bag from Nike suitable for executives.'), Document(metadata={'source': 'fashion_items.csv', 'row': 51}, page_content='Item ID: ITEM052\\nCategory: Jacket\\nBrand: Prada\\nPrice: 461.4\\nColor: Gray\\nSize: XL\\nTarget Customer: College Student\\nDescription: A stylish gray jacket from Prada suitable for college students.'), Document(metadata={'source': 'fashion_items.csv', 'row': 52}, page_content='Item ID: ITEM053\\nCategory: Jacket\\nBrand: Zara\\nPrice: 65.73\\nColor: Black\\nSize: XXL\\nTarget Customer: Executive\\nDescription: A stylish black jacket from Zara suitable for executives.'), Document(metadata={'source': 'fashion_items.csv', 'row': 53}, page_content='Item ID: ITEM054\\nCategory: Shorts\\nBrand: Reebok\\nPrice: 358.15\\nColor: Brown\\nSize: S\\nTarget Customer: College Student\\nDescription: A stylish brown shorts from Reebok suitable for college students.'), Document(metadata={'source': 'fashion_items.csv', 'row': 54}, page_content='Item ID: ITEM055\\nCategory: Hat\\nBrand: Prada\\nPrice: 224.95\\nColor: White\\nSize: L\\nTarget Customer: College Student\\nDescription: A stylish white hat from Prada suitable for college students.'), Document(metadata={'source': 'fashion_items.csv', 'row': 55}, page_content='Item ID: ITEM056\\nCategory: Shoes\\nBrand: Zara\\nPrice: 499.28\\nColor: Blue\\nSize: XS\\nTarget Customer: College Student\\nDescription: A stylish blue shoes from Zara suitable for college students.'), Document(metadata={'source': 'fashion_items.csv', 'row': 56}, page_content=\"Item ID: ITEM057\\nCategory: Shoes\\nBrand: Levi's\\nPrice: 483.09\\nColor: Black\\nSize: XS\\nTarget Customer: College Student\\nDescription: A stylish black shoes from Levi's suitable for college students.\"), Document(metadata={'source': 'fashion_items.csv', 'row': 57}, page_content='Item ID: ITEM058\\nCategory: Jacket\\nBrand: Gucci\\nPrice: 206.03\\nColor: Green\\nSize: M\\nTarget Customer: College Student\\nDescription: A stylish green jacket from Gucci suitable for college students.'), Document(metadata={'source': 'fashion_items.csv', 'row': 58}, page_content='Item ID: ITEM059\\nCategory: T-shirt\\nBrand: H&M\\nPrice: 323.69\\nColor: Red\\nSize: XL\\nTarget Customer: Executive\\nDescription: A stylish red t-shirt from H&M suitable for executives.'), Document(metadata={'source': 'fashion_items.csv', 'row': 59}, page_content='Item ID: ITEM060\\nCategory: Hat\\nBrand: Uniqlo\\nPrice: 39.96\\nColor: Yellow\\nSize: XXL\\nTarget Customer: New Employee\\nDescription: A stylish yellow hat from Uniqlo suitable for new employees.'), Document(metadata={'source': 'fashion_items.csv', 'row': 60}, page_content='Item ID: ITEM061\\nCategory: Sweater\\nBrand: Nike\\nPrice: 392.42\\nColor: Purple\\nSize: M\\nTarget Customer: New Employee\\nDescription: A stylish purple sweater from Nike suitable for new employees.'), Document(metadata={'source': 'fashion_items.csv', 'row': 61}, page_content='Item ID: ITEM062\\nCategory: Hat\\nBrand: Prada\\nPrice: 393.29\\nColor: Green\\nSize: XL\\nTarget Customer: College Student\\nDescription: A stylish green hat from Prada suitable for college students.'), Document(metadata={'source': 'fashion_items.csv', 'row': 62}, page_content='Item ID: ITEM063\\nCategory: Skirt\\nBrand: Gucci\\nPrice: 495.69\\nColor: Blue\\nSize: XS\\nTarget Customer: New Employee\\nDescription: A stylish blue skirt from Gucci suitable for new employees.'), Document(metadata={'source': 'fashion_items.csv', 'row': 63}, page_content='Item ID: ITEM064\\nCategory: Sweater\\nBrand: Puma\\nPrice: 103.17\\nColor: Green\\nSize: XS\\nTarget Customer: New Employee\\nDescription: A stylish green sweater from Puma suitable for new employees.'), Document(metadata={'source': 'fashion_items.csv', 'row': 64}, page_content='Item ID: ITEM065\\nCategory: Skirt\\nBrand: Prada\\nPrice: 403.05\\nColor: Gray\\nSize: L\\nTarget Customer: Executive\\nDescription: A stylish gray skirt from Prada suitable for executives.'), Document(metadata={'source': 'fashion_items.csv', 'row': 65}, page_content='Item ID: ITEM066\\nCategory: Jeans\\nBrand: Uniqlo\\nPrice: 365.24\\nColor: White\\nSize: L\\nTarget Customer: College Student\\nDescription: A stylish white jeans from Uniqlo suitable for college students.'), Document(metadata={'source': 'fashion_items.csv', 'row': 66}, page_content='Item ID: ITEM067\\nCategory: Sweater\\nBrand: Uniqlo\\nPrice: 217.48\\nColor: Blue\\nSize: S\\nTarget Customer: New Employee\\nDescription: A stylish blue sweater from Uniqlo suitable for new employees.'), Document(metadata={'source': 'fashion_items.csv', 'row': 67}, page_content=\"Item ID: ITEM068\\nCategory: Shoes\\nBrand: Levi's\\nPrice: 482.37\\nColor: Brown\\nSize: S\\nTarget Customer: Executive\\nDescription: A stylish brown shoes from Levi's suitable for executives.\"), Document(metadata={'source': 'fashion_items.csv', 'row': 68}, page_content='Item ID: ITEM069\\nCategory: Jeans\\nBrand: Reebok\\nPrice: 119.8\\nColor: Green\\nSize: XXL\\nTarget Customer: College Student\\nDescription: A stylish green jeans from Reebok suitable for college students.'), Document(metadata={'source': 'fashion_items.csv', 'row': 69}, page_content='Item ID: ITEM070\\nCategory: Dress\\nBrand: Nike\\nPrice: 49.19\\nColor: Pink\\nSize: L\\nTarget Customer: Executive\\nDescription: A stylish pink dress from Nike suitable for executives.'), Document(metadata={'source': 'fashion_items.csv', 'row': 70}, page_content='Item ID: ITEM071\\nCategory: Hat\\nBrand: Prada\\nPrice: 61.29\\nColor: White\\nSize: M\\nTarget Customer: College Student\\nDescription: A stylish white hat from Prada suitable for college students.'), Document(metadata={'source': 'fashion_items.csv', 'row': 71}, page_content='Item ID: ITEM072\\nCategory: Dress\\nBrand: Nike\\nPrice: 34.29\\nColor: White\\nSize: M\\nTarget Customer: Executive\\nDescription: A stylish white dress from Nike suitable for executives.'), Document(metadata={'source': 'fashion_items.csv', 'row': 72}, page_content='Item ID: ITEM073\\nCategory: Shorts\\nBrand: Zara\\nPrice: 58.51\\nColor: Brown\\nSize: XS\\nTarget Customer: New Employee\\nDescription: A stylish brown shorts from Zara suitable for new employees.'), Document(metadata={'source': 'fashion_items.csv', 'row': 73}, page_content='Item ID: ITEM074\\nCategory: Sweater\\nBrand: Prada\\nPrice: 134.58\\nColor: Yellow\\nSize: L\\nTarget Customer: Executive\\nDescription: A stylish yellow sweater from Prada suitable for executives.'), Document(metadata={'source': 'fashion_items.csv', 'row': 74}, page_content='Item ID: ITEM075\\nCategory: Shoes\\nBrand: Puma\\nPrice: 467.89\\nColor: Pink\\nSize: XS\\nTarget Customer: Executive\\nDescription: A stylish pink shoes from Puma suitable for executives.'), Document(metadata={'source': 'fashion_items.csv', 'row': 75}, page_content='Item ID: ITEM076\\nCategory: Dress\\nBrand: H&M\\nPrice: 202.05\\nColor: Black\\nSize: S\\nTarget Customer: New Employee\\nDescription: A stylish black dress from H&M suitable for new employees.'), Document(metadata={'source': 'fashion_items.csv', 'row': 76}, page_content='Item ID: ITEM077\\nCategory: Jacket\\nBrand: Reebok\\nPrice: 158.75\\nColor: Yellow\\nSize: S\\nTarget Customer: Executive\\nDescription: A stylish yellow jacket from Reebok suitable for executives.'), Document(metadata={'source': 'fashion_items.csv', 'row': 77}, page_content='Item ID: ITEM078\\nCategory: Bag\\nBrand: H&M\\nPrice: 25.17\\nColor: Brown\\nSize: XXL\\nTarget Customer: Executive\\nDescription: A stylish brown bag from H&M suitable for executives.'), Document(metadata={'source': 'fashion_items.csv', 'row': 78}, page_content='Item ID: ITEM079\\nCategory: Dress\\nBrand: Reebok\\nPrice: 418.37\\nColor: Pink\\nSize: S\\nTarget Customer: New Employee\\nDescription: A stylish pink dress from Reebok suitable for new employees.'), Document(metadata={'source': 'fashion_items.csv', 'row': 79}, page_content='Item ID: ITEM080\\nCategory: Skirt\\nBrand: Uniqlo\\nPrice: 347.83\\nColor: White\\nSize: L\\nTarget Customer: College Student\\nDescription: A stylish white skirt from Uniqlo suitable for college students.'), Document(metadata={'source': 'fashion_items.csv', 'row': 80}, page_content='Item ID: ITEM081\\nCategory: Shorts\\nBrand: Puma\\nPrice: 460.16\\nColor: Yellow\\nSize: XL\\nTarget Customer: New Employee\\nDescription: A stylish yellow shorts from Puma suitable for new employees.'), Document(metadata={'source': 'fashion_items.csv', 'row': 81}, page_content='Item ID: ITEM082\\nCategory: Shoes\\nBrand: Nike\\nPrice: 255.37\\nColor: Yellow\\nSize: L\\nTarget Customer: College Student\\nDescription: A stylish yellow shoes from Nike suitable for college students.'), Document(metadata={'source': 'fashion_items.csv', 'row': 82}, page_content=\"Item ID: ITEM083\\nCategory: Bag\\nBrand: Levi's\\nPrice: 232.58\\nColor: Purple\\nSize: S\\nTarget Customer: College Student\\nDescription: A stylish purple bag from Levi's suitable for college students.\"), Document(metadata={'source': 'fashion_items.csv', 'row': 83}, page_content='Item ID: ITEM084\\nCategory: Bag\\nBrand: Puma\\nPrice: 393.82\\nColor: Green\\nSize: XL\\nTarget Customer: Executive\\nDescription: A stylish green bag from Puma suitable for executives.'), Document(metadata={'source': 'fashion_items.csv', 'row': 84}, page_content='Item ID: ITEM085\\nCategory: Jeans\\nBrand: Gucci\\nPrice: 191.87\\nColor: Brown\\nSize: S\\nTarget Customer: New Employee\\nDescription: A stylish brown jeans from Gucci suitable for new employees.'), Document(metadata={'source': 'fashion_items.csv', 'row': 85}, page_content='Item ID: ITEM086\\nCategory: Shorts\\nBrand: Adidas\\nPrice: 316.35\\nColor: Yellow\\nSize: L\\nTarget Customer: New Employee\\nDescription: A stylish yellow shorts from Adidas suitable for new employees.'), Document(metadata={'source': 'fashion_items.csv', 'row': 86}, page_content='Item ID: ITEM087\\nCategory: Bag\\nBrand: H&M\\nPrice: 164.55\\nColor: Green\\nSize: S\\nTarget Customer: New Employee\\nDescription: A stylish green bag from H&M suitable for new employees.'), Document(metadata={'source': 'fashion_items.csv', 'row': 87}, page_content='Item ID: ITEM088\\nCategory: Skirt\\nBrand: Prada\\nPrice: 159.58\\nColor: Yellow\\nSize: XS\\nTarget Customer: College Student\\nDescription: A stylish yellow skirt from Prada suitable for college students.'), Document(metadata={'source': 'fashion_items.csv', 'row': 88}, page_content='Item ID: ITEM089\\nCategory: Shoes\\nBrand: Gucci\\nPrice: 480.99\\nColor: Pink\\nSize: XL\\nTarget Customer: New Employee\\nDescription: A stylish pink shoes from Gucci suitable for new employees.'), Document(metadata={'source': 'fashion_items.csv', 'row': 89}, page_content='Item ID: ITEM090\\nCategory: Sweater\\nBrand: Uniqlo\\nPrice: 496.48\\nColor: Black\\nSize: M\\nTarget Customer: New Employee\\nDescription: A stylish black sweater from Uniqlo suitable for new employees.'), Document(metadata={'source': 'fashion_items.csv', 'row': 90}, page_content='Item ID: ITEM091\\nCategory: Dress\\nBrand: Zara\\nPrice: 371.67\\nColor: Gray\\nSize: S\\nTarget Customer: College Student\\nDescription: A stylish gray dress from Zara suitable for college students.'), Document(metadata={'source': 'fashion_items.csv', 'row': 91}, page_content='Item ID: ITEM092\\nCategory: Shoes\\nBrand: Adidas\\nPrice: 120.72\\nColor: Gray\\nSize: S\\nTarget Customer: College Student\\nDescription: A stylish gray shoes from Adidas suitable for college students.'), Document(metadata={'source': 'fashion_items.csv', 'row': 92}, page_content=\"Item ID: ITEM093\\nCategory: Bag\\nBrand: Levi's\\nPrice: 71.01\\nColor: Blue\\nSize: M\\nTarget Customer: Executive\\nDescription: A stylish blue bag from Levi's suitable for executives.\"), Document(metadata={'source': 'fashion_items.csv', 'row': 93}, page_content='Item ID: ITEM094\\nCategory: Shorts\\nBrand: Adidas\\nPrice: 99.49\\nColor: Purple\\nSize: L\\nTarget Customer: Executive\\nDescription: A stylish purple shorts from Adidas suitable for executives.'), Document(metadata={'source': 'fashion_items.csv', 'row': 94}, page_content='Item ID: ITEM095\\nCategory: Sweater\\nBrand: Uniqlo\\nPrice: 96.66\\nColor: Brown\\nSize: XL\\nTarget Customer: New Employee\\nDescription: A stylish brown sweater from Uniqlo suitable for new employees.'), Document(metadata={'source': 'fashion_items.csv', 'row': 95}, page_content='Item ID: ITEM096\\nCategory: Shoes\\nBrand: Gucci\\nPrice: 160.74\\nColor: Brown\\nSize: L\\nTarget Customer: Executive\\nDescription: A stylish brown shoes from Gucci suitable for executives.'), Document(metadata={'source': 'fashion_items.csv', 'row': 96}, page_content='Item ID: ITEM097\\nCategory: Skirt\\nBrand: Zara\\nPrice: 132.24\\nColor: Purple\\nSize: XXL\\nTarget Customer: New Employee\\nDescription: A stylish purple skirt from Zara suitable for new employees.'), Document(metadata={'source': 'fashion_items.csv', 'row': 97}, page_content='Item ID: ITEM098\\nCategory: Jeans\\nBrand: Uniqlo\\nPrice: 20.87\\nColor: Black\\nSize: XS\\nTarget Customer: New Employee\\nDescription: A stylish black jeans from Uniqlo suitable for new employees.'), Document(metadata={'source': 'fashion_items.csv', 'row': 98}, page_content='Item ID: ITEM099\\nCategory: Sweater\\nBrand: Gucci\\nPrice: 498.25\\nColor: Gray\\nSize: XXL\\nTarget Customer: New Employee\\nDescription: A stylish gray sweater from Gucci suitable for new employees.'), Document(metadata={'source': 'fashion_items.csv', 'row': 99}, page_content='Item ID: ITEM100\\nCategory: Shoes\\nBrand: Nike\\nPrice: 43.62\\nColor: Red\\nSize: M\\nTarget Customer: Executive\\nDescription: A stylish red shoes from Nike suitable for executives.')]\n"
          ]
        }
      ]
    },
    {
      "cell_type": "markdown",
      "metadata": {
        "id": "1f4dfd2f"
      },
      "source": [
        "Here is the code to display the first 10 rows (documents) of the loaded data:"
      ]
    },
    {
      "cell_type": "code",
      "metadata": {
        "colab": {
          "base_uri": "https://localhost:8080/"
        },
        "id": "716ee67c",
        "outputId": "d1acd976-ff9f-4c35-b7ce-42900d5ff2a5"
      },
      "source": [
        "# Display the first 10 documents\n",
        "for i, doc in enumerate(data[:10]):\n",
        "    print(f\"--- Document {i+1} ---\")\n",
        "    print(f\"Metadata: {doc.metadata}\")\n",
        "    print(f\"Page Content:\\n{doc.page_content}\")\n",
        "    print(\"-\" * 20)"
      ],
      "execution_count": null,
      "outputs": [
        {
          "output_type": "stream",
          "name": "stdout",
          "text": [
            "--- Document 1 ---\n",
            "Metadata: {'source': '/content/fashion_items.csv', 'row': 0}\n",
            "Page Content:\n",
            "Item ID: ITEM001\n",
            "Category: Sweater\n",
            "Brand: Levi's\n",
            "Price: 106.91\n",
            "Color: Black\n",
            "Size: S\n",
            "Target Customer: New Employee\n",
            "Description: A stylish black sweater from Levi's suitable for new employees.\n",
            "--------------------\n",
            "--- Document 2 ---\n",
            "Metadata: {'source': '/content/fashion_items.csv', 'row': 1}\n",
            "Page Content:\n",
            "Item ID: ITEM002\n",
            "Category: Bag\n",
            "Brand: Zara\n",
            "Price: 241.95\n",
            "Color: Brown\n",
            "Size: L\n",
            "Target Customer: College Student\n",
            "Description: A stylish brown bag from Zara suitable for college students.\n",
            "--------------------\n",
            "--- Document 3 ---\n",
            "Metadata: {'source': '/content/fashion_items.csv', 'row': 2}\n",
            "Page Content:\n",
            "Item ID: ITEM003\n",
            "Category: Shorts\n",
            "Brand: H&M\n",
            "Price: 128.32\n",
            "Color: Brown\n",
            "Size: XXL\n",
            "Target Customer: New Employee\n",
            "Description: A stylish brown shorts from H&M suitable for new employees.\n",
            "--------------------\n",
            "--- Document 4 ---\n",
            "Metadata: {'source': '/content/fashion_items.csv', 'row': 3}\n",
            "Page Content:\n",
            "Item ID: ITEM004\n",
            "Category: Jacket\n",
            "Brand: Nike\n",
            "Price: 333.6\n",
            "Color: Yellow\n",
            "Size: XL\n",
            "Target Customer: College Student\n",
            "Description: A stylish yellow jacket from Nike suitable for college students.\n",
            "--------------------\n",
            "--- Document 5 ---\n",
            "Metadata: {'source': '/content/fashion_items.csv', 'row': 4}\n",
            "Page Content:\n",
            "Item ID: ITEM005\n",
            "Category: Bag\n",
            "Brand: Nike\n",
            "Price: 203.42\n",
            "Color: Pink\n",
            "Size: XL\n",
            "Target Customer: College Student\n",
            "Description: A stylish pink bag from Nike suitable for college students.\n",
            "--------------------\n",
            "--- Document 6 ---\n",
            "Metadata: {'source': '/content/fashion_items.csv', 'row': 5}\n",
            "Page Content:\n",
            "Item ID: ITEM006\n",
            "Category: Dress\n",
            "Brand: Adidas\n",
            "Price: 319.28\n",
            "Color: Yellow\n",
            "Size: XL\n",
            "Target Customer: Executive\n",
            "Description: A stylish yellow dress from Adidas suitable for executives.\n",
            "--------------------\n",
            "--- Document 7 ---\n",
            "Metadata: {'source': '/content/fashion_items.csv', 'row': 6}\n",
            "Page Content:\n",
            "Item ID: ITEM007\n",
            "Category: Shoes\n",
            "Brand: Prada\n",
            "Price: 133.74\n",
            "Color: Green\n",
            "Size: XXL\n",
            "Target Customer: New Employee\n",
            "Description: A stylish green shoes from Prada suitable for new employees.\n",
            "--------------------\n",
            "--- Document 8 ---\n",
            "Metadata: {'source': '/content/fashion_items.csv', 'row': 7}\n",
            "Page Content:\n",
            "Item ID: ITEM008\n",
            "Category: T-shirt\n",
            "Brand: Prada\n",
            "Price: 71.63\n",
            "Color: Purple\n",
            "Size: M\n",
            "Target Customer: Executive\n",
            "Description: A stylish purple t-shirt from Prada suitable for executives.\n",
            "--------------------\n",
            "--- Document 9 ---\n",
            "Metadata: {'source': '/content/fashion_items.csv', 'row': 8}\n",
            "Page Content:\n",
            "Item ID: ITEM009\n",
            "Category: Bag\n",
            "Brand: Zara\n",
            "Price: 469.42\n",
            "Color: Yellow\n",
            "Size: XS\n",
            "Target Customer: College Student\n",
            "Description: A stylish yellow bag from Zara suitable for college students.\n",
            "--------------------\n",
            "--- Document 10 ---\n",
            "Metadata: {'source': '/content/fashion_items.csv', 'row': 9}\n",
            "Page Content:\n",
            "Item ID: ITEM010\n",
            "Category: Jacket\n",
            "Brand: H&M\n",
            "Price: 349.12\n",
            "Color: Pink\n",
            "Size: M\n",
            "Target Customer: New Employee\n",
            "Description: A stylish pink jacket from H&M suitable for new employees.\n",
            "--------------------\n"
          ]
        }
      ]
    },
    {
      "cell_type": "code",
      "metadata": {
        "colab": {
          "base_uri": "https://localhost:8080/",
          "height": 600
        },
        "id": "93c13ebb",
        "outputId": "a730d395-7eef-430d-a8d5-7e323fc975e2"
      },
      "source": [
        "from langchain.document_loaders.csv_loader import CSVLoader\n",
        "\n",
        "# Initialize the CSVLoader with the file path\n",
        "loader = CSVLoader('/content/fashion_items.csv')\n",
        "\n",
        "# Load the data\n",
        "data = loader.load()\n",
        "\n",
        "# Print the loaded data (optional, for demonstration)\n",
        "print(data)"
      ],
      "execution_count": null,
      "outputs": [
        {
          "output_type": "error",
          "ename": "ModuleNotFoundError",
          "evalue": "Module langchain_community.document_loaders not found. Please install langchain-community to access this module. You can install it using `pip install -U langchain-community`",
          "traceback": [
            "\u001b[0;31m---------------------------------------------------------------------------\u001b[0m",
            "\u001b[0;31mModuleNotFoundError\u001b[0m                       Traceback (most recent call last)",
            "\u001b[0;32m/usr/local/lib/python3.12/dist-packages/langchain/_api/module_import.py\u001b[0m in \u001b[0;36mimport_by_name\u001b[0;34m(name)\u001b[0m\n\u001b[1;32m     69\u001b[0m             \u001b[0;32mtry\u001b[0m\u001b[0;34m:\u001b[0m\u001b[0;34m\u001b[0m\u001b[0;34m\u001b[0m\u001b[0m\n\u001b[0;32m---> 70\u001b[0;31m                 \u001b[0mmodule\u001b[0m \u001b[0;34m=\u001b[0m \u001b[0mimportlib\u001b[0m\u001b[0;34m.\u001b[0m\u001b[0mimport_module\u001b[0m\u001b[0;34m(\u001b[0m\u001b[0mnew_module\u001b[0m\u001b[0;34m)\u001b[0m\u001b[0;34m\u001b[0m\u001b[0;34m\u001b[0m\u001b[0m\n\u001b[0m\u001b[1;32m     71\u001b[0m             \u001b[0;32mexcept\u001b[0m \u001b[0mModuleNotFoundError\u001b[0m \u001b[0;32mas\u001b[0m \u001b[0me\u001b[0m\u001b[0;34m:\u001b[0m\u001b[0;34m\u001b[0m\u001b[0;34m\u001b[0m\u001b[0m\n",
            "\u001b[0;32m/usr/lib/python3.12/importlib/__init__.py\u001b[0m in \u001b[0;36mimport_module\u001b[0;34m(name, package)\u001b[0m\n\u001b[1;32m     89\u001b[0m             \u001b[0mlevel\u001b[0m \u001b[0;34m+=\u001b[0m \u001b[0;36m1\u001b[0m\u001b[0;34m\u001b[0m\u001b[0;34m\u001b[0m\u001b[0m\n\u001b[0;32m---> 90\u001b[0;31m     \u001b[0;32mreturn\u001b[0m \u001b[0m_bootstrap\u001b[0m\u001b[0;34m.\u001b[0m\u001b[0m_gcd_import\u001b[0m\u001b[0;34m(\u001b[0m\u001b[0mname\u001b[0m\u001b[0;34m[\u001b[0m\u001b[0mlevel\u001b[0m\u001b[0;34m:\u001b[0m\u001b[0;34m]\u001b[0m\u001b[0;34m,\u001b[0m \u001b[0mpackage\u001b[0m\u001b[0;34m,\u001b[0m \u001b[0mlevel\u001b[0m\u001b[0;34m)\u001b[0m\u001b[0;34m\u001b[0m\u001b[0;34m\u001b[0m\u001b[0m\n\u001b[0m\u001b[1;32m     91\u001b[0m \u001b[0;34m\u001b[0m\u001b[0m\n",
            "\u001b[0;32m/usr/lib/python3.12/importlib/_bootstrap.py\u001b[0m in \u001b[0;36m_gcd_import\u001b[0;34m(name, package, level)\u001b[0m\n",
            "\u001b[0;32m/usr/lib/python3.12/importlib/_bootstrap.py\u001b[0m in \u001b[0;36m_find_and_load\u001b[0;34m(name, import_)\u001b[0m\n",
            "\u001b[0;32m/usr/lib/python3.12/importlib/_bootstrap.py\u001b[0m in \u001b[0;36m_find_and_load_unlocked\u001b[0;34m(name, import_)\u001b[0m\n",
            "\u001b[0;32m/usr/lib/python3.12/importlib/_bootstrap.py\u001b[0m in \u001b[0;36m_call_with_frames_removed\u001b[0;34m(f, *args, **kwds)\u001b[0m\n",
            "\u001b[0;32m/usr/lib/python3.12/importlib/_bootstrap.py\u001b[0m in \u001b[0;36m_gcd_import\u001b[0;34m(name, package, level)\u001b[0m\n",
            "\u001b[0;32m/usr/lib/python3.12/importlib/_bootstrap.py\u001b[0m in \u001b[0;36m_find_and_load\u001b[0;34m(name, import_)\u001b[0m\n",
            "\u001b[0;32m/usr/lib/python3.12/importlib/_bootstrap.py\u001b[0m in \u001b[0;36m_find_and_load_unlocked\u001b[0;34m(name, import_)\u001b[0m\n",
            "\u001b[0;31mModuleNotFoundError\u001b[0m: No module named 'langchain_community'",
            "\nThe above exception was the direct cause of the following exception:\n",
            "\u001b[0;31mModuleNotFoundError\u001b[0m                       Traceback (most recent call last)",
            "\u001b[0;32m/tmp/ipython-input-3211795730.py\u001b[0m in \u001b[0;36m<cell line: 0>\u001b[0;34m()\u001b[0m\n\u001b[0;32m----> 1\u001b[0;31m \u001b[0;32mfrom\u001b[0m \u001b[0mlangchain\u001b[0m\u001b[0;34m.\u001b[0m\u001b[0mdocument_loaders\u001b[0m\u001b[0;34m.\u001b[0m\u001b[0mcsv_loader\u001b[0m \u001b[0;32mimport\u001b[0m \u001b[0mCSVLoader\u001b[0m\u001b[0;34m\u001b[0m\u001b[0;34m\u001b[0m\u001b[0m\n\u001b[0m\u001b[1;32m      2\u001b[0m \u001b[0;34m\u001b[0m\u001b[0m\n\u001b[1;32m      3\u001b[0m \u001b[0;31m# Initialize the CSVLoader with the file path\u001b[0m\u001b[0;34m\u001b[0m\u001b[0;34m\u001b[0m\u001b[0m\n\u001b[1;32m      4\u001b[0m \u001b[0mloader\u001b[0m \u001b[0;34m=\u001b[0m \u001b[0mCSVLoader\u001b[0m\u001b[0;34m(\u001b[0m\u001b[0;34m'/content/fashion_items.csv'\u001b[0m\u001b[0;34m)\u001b[0m\u001b[0;34m\u001b[0m\u001b[0;34m\u001b[0m\u001b[0m\n\u001b[1;32m      5\u001b[0m \u001b[0;34m\u001b[0m\u001b[0m\n",
            "\u001b[0;32m/usr/local/lib/python3.12/dist-packages/langchain/document_loaders/csv_loader.py\u001b[0m in \u001b[0;36m__getattr__\u001b[0;34m(name)\u001b[0m\n\u001b[1;32m     19\u001b[0m \u001b[0;32mdef\u001b[0m \u001b[0m__getattr__\u001b[0m\u001b[0;34m(\u001b[0m\u001b[0mname\u001b[0m\u001b[0;34m:\u001b[0m \u001b[0mstr\u001b[0m\u001b[0;34m)\u001b[0m \u001b[0;34m->\u001b[0m \u001b[0mAny\u001b[0m\u001b[0;34m:\u001b[0m\u001b[0;34m\u001b[0m\u001b[0;34m\u001b[0m\u001b[0m\n\u001b[1;32m     20\u001b[0m     \u001b[0;34m\"\"\"Look up attributes dynamically.\"\"\"\u001b[0m\u001b[0;34m\u001b[0m\u001b[0;34m\u001b[0m\u001b[0m\n\u001b[0;32m---> 21\u001b[0;31m     \u001b[0;32mreturn\u001b[0m \u001b[0m_import_attribute\u001b[0m\u001b[0;34m(\u001b[0m\u001b[0mname\u001b[0m\u001b[0;34m)\u001b[0m\u001b[0;34m\u001b[0m\u001b[0;34m\u001b[0m\u001b[0m\n\u001b[0m\u001b[1;32m     22\u001b[0m \u001b[0;34m\u001b[0m\u001b[0m\n\u001b[1;32m     23\u001b[0m \u001b[0;34m\u001b[0m\u001b[0m\n",
            "\u001b[0;32m/usr/local/lib/python3.12/dist-packages/langchain/_api/module_import.py\u001b[0m in \u001b[0;36mimport_by_name\u001b[0;34m(name)\u001b[0m\n\u001b[1;32m     76\u001b[0m                         \u001b[0;34m\"You can install it using `pip install -U langchain-community`\"\u001b[0m\u001b[0;34m\u001b[0m\u001b[0;34m\u001b[0m\u001b[0m\n\u001b[1;32m     77\u001b[0m                     )\n\u001b[0;32m---> 78\u001b[0;31m                     \u001b[0;32mraise\u001b[0m \u001b[0mModuleNotFoundError\u001b[0m\u001b[0;34m(\u001b[0m\u001b[0mmsg\u001b[0m\u001b[0;34m)\u001b[0m \u001b[0;32mfrom\u001b[0m \u001b[0me\u001b[0m\u001b[0;34m\u001b[0m\u001b[0;34m\u001b[0m\u001b[0m\n\u001b[0m\u001b[1;32m     79\u001b[0m                 \u001b[0;32mraise\u001b[0m\u001b[0;34m\u001b[0m\u001b[0;34m\u001b[0m\u001b[0m\n\u001b[1;32m     80\u001b[0m \u001b[0;34m\u001b[0m\u001b[0m\n",
            "\u001b[0;31mModuleNotFoundError\u001b[0m: Module langchain_community.document_loaders not found. Please install langchain-community to access this module. You can install it using `pip install -U langchain-community`",
            "",
            "\u001b[0;31m---------------------------------------------------------------------------\u001b[0;32m\nNOTE: If your import is failing due to a missing package, you can\nmanually install dependencies using either !pip or !apt.\n\nTo view examples of installing some common dependencies, click the\n\"Open Examples\" button below.\n\u001b[0;31m---------------------------------------------------------------------------\u001b[0m\n"
          ],
          "errorDetails": {
            "actions": [
              {
                "action": "open_url",
                "actionText": "Open Examples",
                "url": "/notebooks/snippets/importing_libraries.ipynb"
              }
            ]
          }
        }
      ]
    },
    {
      "cell_type": "code",
      "metadata": {
        "colab": {
          "base_uri": "https://localhost:8080/",
          "height": 1000
        },
        "id": "97793f64",
        "outputId": "9684262c-94da-4445-fa49-99c9ae9a9dc6"
      },
      "source": [
        "%pip install -U langchain-community"
      ],
      "execution_count": null,
      "outputs": [
        {
          "output_type": "stream",
          "name": "stdout",
          "text": [
            "Collecting langchain-community\n",
            "  Downloading langchain_community-0.4-py3-none-any.whl.metadata (3.0 kB)\n",
            "Collecting langchain-core<2.0.0,>=1.0.0 (from langchain-community)\n",
            "  Downloading langchain_core-1.0.0-py3-none-any.whl.metadata (3.4 kB)\n",
            "Collecting langchain-classic<2.0.0,>=1.0.0 (from langchain-community)\n",
            "  Downloading langchain_classic-1.0.0-py3-none-any.whl.metadata (3.9 kB)\n",
            "Requirement already satisfied: SQLAlchemy<3.0.0,>=1.4.0 in /usr/local/lib/python3.12/dist-packages (from langchain-community) (2.0.44)\n",
            "Collecting requests<3.0.0,>=2.32.5 (from langchain-community)\n",
            "  Downloading requests-2.32.5-py3-none-any.whl.metadata (4.9 kB)\n",
            "Requirement already satisfied: PyYAML<7.0.0,>=5.3.0 in /usr/local/lib/python3.12/dist-packages (from langchain-community) (6.0.3)\n",
            "Requirement already satisfied: aiohttp<4.0.0,>=3.8.3 in /usr/local/lib/python3.12/dist-packages (from langchain-community) (3.13.0)\n",
            "Requirement already satisfied: tenacity!=8.4.0,<10.0.0,>=8.1.0 in /usr/local/lib/python3.12/dist-packages (from langchain-community) (8.5.0)\n",
            "Collecting dataclasses-json<0.7.0,>=0.6.7 (from langchain-community)\n",
            "  Downloading dataclasses_json-0.6.7-py3-none-any.whl.metadata (25 kB)\n",
            "Requirement already satisfied: pydantic-settings<3.0.0,>=2.10.1 in /usr/local/lib/python3.12/dist-packages (from langchain-community) (2.11.0)\n",
            "Requirement already satisfied: langsmith<1.0.0,>=0.1.125 in /usr/local/lib/python3.12/dist-packages (from langchain-community) (0.4.35)\n",
            "Requirement already satisfied: httpx-sse<1.0.0,>=0.4.0 in /usr/local/lib/python3.12/dist-packages (from langchain-community) (0.4.3)\n",
            "Requirement already satisfied: numpy>=1.26.2 in /usr/local/lib/python3.12/dist-packages (from langchain-community) (2.0.2)\n",
            "Requirement already satisfied: aiohappyeyeballs>=2.5.0 in /usr/local/lib/python3.12/dist-packages (from aiohttp<4.0.0,>=3.8.3->langchain-community) (2.6.1)\n",
            "Requirement already satisfied: aiosignal>=1.4.0 in /usr/local/lib/python3.12/dist-packages (from aiohttp<4.0.0,>=3.8.3->langchain-community) (1.4.0)\n",
            "Requirement already satisfied: attrs>=17.3.0 in /usr/local/lib/python3.12/dist-packages (from aiohttp<4.0.0,>=3.8.3->langchain-community) (25.4.0)\n",
            "Requirement already satisfied: frozenlist>=1.1.1 in /usr/local/lib/python3.12/dist-packages (from aiohttp<4.0.0,>=3.8.3->langchain-community) (1.8.0)\n",
            "Requirement already satisfied: multidict<7.0,>=4.5 in /usr/local/lib/python3.12/dist-packages (from aiohttp<4.0.0,>=3.8.3->langchain-community) (6.7.0)\n",
            "Requirement already satisfied: propcache>=0.2.0 in /usr/local/lib/python3.12/dist-packages (from aiohttp<4.0.0,>=3.8.3->langchain-community) (0.4.1)\n",
            "Requirement already satisfied: yarl<2.0,>=1.17.0 in /usr/local/lib/python3.12/dist-packages (from aiohttp<4.0.0,>=3.8.3->langchain-community) (1.22.0)\n",
            "Collecting marshmallow<4.0.0,>=3.18.0 (from dataclasses-json<0.7.0,>=0.6.7->langchain-community)\n",
            "  Downloading marshmallow-3.26.1-py3-none-any.whl.metadata (7.3 kB)\n",
            "Collecting typing-inspect<1,>=0.4.0 (from dataclasses-json<0.7.0,>=0.6.7->langchain-community)\n",
            "  Downloading typing_inspect-0.9.0-py3-none-any.whl.metadata (1.5 kB)\n",
            "Collecting langchain-text-splitters<2.0.0,>=1.0.0 (from langchain-classic<2.0.0,>=1.0.0->langchain-community)\n",
            "  Downloading langchain_text_splitters-1.0.0-py3-none-any.whl.metadata (2.6 kB)\n",
            "Requirement already satisfied: pydantic<3.0.0,>=2.7.4 in /usr/local/lib/python3.12/dist-packages (from langchain-classic<2.0.0,>=1.0.0->langchain-community) (2.11.10)\n",
            "Requirement already satisfied: jsonpatch<2.0.0,>=1.33.0 in /usr/local/lib/python3.12/dist-packages (from langchain-core<2.0.0,>=1.0.0->langchain-community) (1.33)\n",
            "Requirement already satisfied: packaging<26.0.0,>=23.2.0 in /usr/local/lib/python3.12/dist-packages (from langchain-core<2.0.0,>=1.0.0->langchain-community) (25.0)\n",
            "Requirement already satisfied: typing-extensions<5.0.0,>=4.7.0 in /usr/local/lib/python3.12/dist-packages (from langchain-core<2.0.0,>=1.0.0->langchain-community) (4.15.0)\n",
            "Requirement already satisfied: httpx<1,>=0.23.0 in /usr/local/lib/python3.12/dist-packages (from langsmith<1.0.0,>=0.1.125->langchain-community) (0.28.1)\n",
            "Requirement already satisfied: orjson>=3.9.14 in /usr/local/lib/python3.12/dist-packages (from langsmith<1.0.0,>=0.1.125->langchain-community) (3.11.3)\n",
            "Requirement already satisfied: requests-toolbelt>=1.0.0 in /usr/local/lib/python3.12/dist-packages (from langsmith<1.0.0,>=0.1.125->langchain-community) (1.0.0)\n",
            "Requirement already satisfied: zstandard>=0.23.0 in /usr/local/lib/python3.12/dist-packages (from langsmith<1.0.0,>=0.1.125->langchain-community) (0.25.0)\n",
            "Requirement already satisfied: python-dotenv>=0.21.0 in /usr/local/lib/python3.12/dist-packages (from pydantic-settings<3.0.0,>=2.10.1->langchain-community) (1.1.1)\n",
            "Requirement already satisfied: typing-inspection>=0.4.0 in /usr/local/lib/python3.12/dist-packages (from pydantic-settings<3.0.0,>=2.10.1->langchain-community) (0.4.2)\n",
            "Requirement already satisfied: charset_normalizer<4,>=2 in /usr/local/lib/python3.12/dist-packages (from requests<3.0.0,>=2.32.5->langchain-community) (3.4.4)\n",
            "Requirement already satisfied: idna<4,>=2.5 in /usr/local/lib/python3.12/dist-packages (from requests<3.0.0,>=2.32.5->langchain-community) (3.11)\n",
            "Requirement already satisfied: urllib3<3,>=1.21.1 in /usr/local/lib/python3.12/dist-packages (from requests<3.0.0,>=2.32.5->langchain-community) (2.5.0)\n",
            "Requirement already satisfied: certifi>=2017.4.17 in /usr/local/lib/python3.12/dist-packages (from requests<3.0.0,>=2.32.5->langchain-community) (2025.10.5)\n",
            "Requirement already satisfied: greenlet>=1 in /usr/local/lib/python3.12/dist-packages (from SQLAlchemy<3.0.0,>=1.4.0->langchain-community) (3.2.4)\n",
            "Requirement already satisfied: anyio in /usr/local/lib/python3.12/dist-packages (from httpx<1,>=0.23.0->langsmith<1.0.0,>=0.1.125->langchain-community) (4.11.0)\n",
            "Requirement already satisfied: httpcore==1.* in /usr/local/lib/python3.12/dist-packages (from httpx<1,>=0.23.0->langsmith<1.0.0,>=0.1.125->langchain-community) (1.0.9)\n",
            "Requirement already satisfied: h11>=0.16 in /usr/local/lib/python3.12/dist-packages (from httpcore==1.*->httpx<1,>=0.23.0->langsmith<1.0.0,>=0.1.125->langchain-community) (0.16.0)\n",
            "Requirement already satisfied: jsonpointer>=1.9 in /usr/local/lib/python3.12/dist-packages (from jsonpatch<2.0.0,>=1.33.0->langchain-core<2.0.0,>=1.0.0->langchain-community) (3.0.0)\n",
            "Requirement already satisfied: annotated-types>=0.6.0 in /usr/local/lib/python3.12/dist-packages (from pydantic<3.0.0,>=2.7.4->langchain-classic<2.0.0,>=1.0.0->langchain-community) (0.7.0)\n",
            "Requirement already satisfied: pydantic-core==2.33.2 in /usr/local/lib/python3.12/dist-packages (from pydantic<3.0.0,>=2.7.4->langchain-classic<2.0.0,>=1.0.0->langchain-community) (2.33.2)\n",
            "Collecting mypy-extensions>=0.3.0 (from typing-inspect<1,>=0.4.0->dataclasses-json<0.7.0,>=0.6.7->langchain-community)\n",
            "  Downloading mypy_extensions-1.1.0-py3-none-any.whl.metadata (1.1 kB)\n",
            "Requirement already satisfied: sniffio>=1.1 in /usr/local/lib/python3.12/dist-packages (from anyio->httpx<1,>=0.23.0->langsmith<1.0.0,>=0.1.125->langchain-community) (1.3.1)\n",
            "Downloading langchain_community-0.4-py3-none-any.whl (2.5 MB)\n",
            "\u001b[2K   \u001b[90m━━━━━━━━━━━━━━━━━━━━━━━━━━━━━━━━━━━━━━━━\u001b[0m \u001b[32m2.5/2.5 MB\u001b[0m \u001b[31m37.1 MB/s\u001b[0m eta \u001b[36m0:00:00\u001b[0m\n",
            "\u001b[?25hDownloading dataclasses_json-0.6.7-py3-none-any.whl (28 kB)\n",
            "Downloading langchain_classic-1.0.0-py3-none-any.whl (1.0 MB)\n",
            "\u001b[2K   \u001b[90m━━━━━━━━━━━━━━━━━━━━━━━━━━━━━━━━━━━━━━━━\u001b[0m \u001b[32m1.0/1.0 MB\u001b[0m \u001b[31m43.8 MB/s\u001b[0m eta \u001b[36m0:00:00\u001b[0m\n",
            "\u001b[?25hDownloading langchain_core-1.0.0-py3-none-any.whl (467 kB)\n",
            "\u001b[2K   \u001b[90m━━━━━━━━━━━━━━━━━━━━━━━━━━━━━━━━━━━━━━━━\u001b[0m \u001b[32m467.2/467.2 kB\u001b[0m \u001b[31m23.9 MB/s\u001b[0m eta \u001b[36m0:00:00\u001b[0m\n",
            "\u001b[?25hDownloading requests-2.32.5-py3-none-any.whl (64 kB)\n",
            "\u001b[2K   \u001b[90m━━━━━━━━━━━━━━━━━━━━━━━━━━━━━━━━━━━━━━━━\u001b[0m \u001b[32m64.7/64.7 kB\u001b[0m \u001b[31m3.7 MB/s\u001b[0m eta \u001b[36m0:00:00\u001b[0m\n",
            "\u001b[?25hDownloading langchain_text_splitters-1.0.0-py3-none-any.whl (33 kB)\n",
            "Downloading marshmallow-3.26.1-py3-none-any.whl (50 kB)\n",
            "\u001b[2K   \u001b[90m━━━━━━━━━━━━━━━━━━━━━━━━━━━━━━━━━━━━━━━━\u001b[0m \u001b[32m50.9/50.9 kB\u001b[0m \u001b[31m2.3 MB/s\u001b[0m eta \u001b[36m0:00:00\u001b[0m\n",
            "\u001b[?25hDownloading typing_inspect-0.9.0-py3-none-any.whl (8.8 kB)\n",
            "Downloading mypy_extensions-1.1.0-py3-none-any.whl (5.0 kB)\n",
            "Installing collected packages: requests, mypy-extensions, marshmallow, typing-inspect, dataclasses-json, langchain-core, langchain-text-splitters, langchain-classic, langchain-community\n",
            "  Attempting uninstall: requests\n",
            "    Found existing installation: requests 2.32.4\n",
            "    Uninstalling requests-2.32.4:\n",
            "      Successfully uninstalled requests-2.32.4\n",
            "  Attempting uninstall: langchain-core\n",
            "    Found existing installation: langchain-core 0.3.79\n",
            "    Uninstalling langchain-core-0.3.79:\n",
            "      Successfully uninstalled langchain-core-0.3.79\n",
            "  Attempting uninstall: langchain-text-splitters\n",
            "    Found existing installation: langchain-text-splitters 0.3.11\n",
            "    Uninstalling langchain-text-splitters-0.3.11:\n",
            "      Successfully uninstalled langchain-text-splitters-0.3.11\n",
            "\u001b[31mERROR: pip's dependency resolver does not currently take into account all the packages that are installed. This behaviour is the source of the following dependency conflicts.\n",
            "google-colab 1.0.0 requires requests==2.32.4, but you have requests 2.32.5 which is incompatible.\n",
            "langchain 0.3.27 requires langchain-core<1.0.0,>=0.3.72, but you have langchain-core 1.0.0 which is incompatible.\n",
            "langchain 0.3.27 requires langchain-text-splitters<1.0.0,>=0.3.9, but you have langchain-text-splitters 1.0.0 which is incompatible.\u001b[0m\u001b[31m\n",
            "\u001b[0mSuccessfully installed dataclasses-json-0.6.7 langchain-classic-1.0.0 langchain-community-0.4 langchain-core-1.0.0 langchain-text-splitters-1.0.0 marshmallow-3.26.1 mypy-extensions-1.1.0 requests-2.32.5 typing-inspect-0.9.0\n"
          ]
        },
        {
          "output_type": "display_data",
          "data": {
            "application/vnd.colab-display-data+json": {
              "pip_warning": {
                "packages": [
                  "langchain_core"
                ]
              },
              "id": "8df463bc4e084e93a8f6706abd691bed"
            }
          },
          "metadata": {}
        }
      ]
    },
    {
      "cell_type": "code",
      "metadata": {
        "colab": {
          "base_uri": "https://localhost:8080/"
        },
        "id": "da05b8f5",
        "outputId": "04e76225-f38c-4972-b5bd-9bfa584bbdc9"
      },
      "source": [
        "from langchain.document_loaders.csv_loader import CSVLoader\n",
        "\n",
        "# Initialize the CSVLoader with the file path\n",
        "loader = CSVLoader('/content/fashion_items.csv')\n",
        "\n",
        "# Load the data\n",
        "data = loader.load()\n",
        "\n",
        "# Print the loaded data (optional, for demonstration)\n",
        "print(data)"
      ],
      "execution_count": null,
      "outputs": [
        {
          "output_type": "stream",
          "name": "stdout",
          "text": [
            "[Document(metadata={'source': '/content/fashion_items.csv', 'row': 0}, page_content=\"Item ID: ITEM001\\nCategory: Sweater\\nBrand: Levi's\\nPrice: 106.91\\nColor: Black\\nSize: S\\nTarget Customer: New Employee\\nDescription: A stylish black sweater from Levi's suitable for new employees.\"), Document(metadata={'source': '/content/fashion_items.csv', 'row': 1}, page_content='Item ID: ITEM002\\nCategory: Bag\\nBrand: Zara\\nPrice: 241.95\\nColor: Brown\\nSize: L\\nTarget Customer: College Student\\nDescription: A stylish brown bag from Zara suitable for college students.'), Document(metadata={'source': '/content/fashion_items.csv', 'row': 2}, page_content='Item ID: ITEM003\\nCategory: Shorts\\nBrand: H&M\\nPrice: 128.32\\nColor: Brown\\nSize: XXL\\nTarget Customer: New Employee\\nDescription: A stylish brown shorts from H&M suitable for new employees.'), Document(metadata={'source': '/content/fashion_items.csv', 'row': 3}, page_content='Item ID: ITEM004\\nCategory: Jacket\\nBrand: Nike\\nPrice: 333.6\\nColor: Yellow\\nSize: XL\\nTarget Customer: College Student\\nDescription: A stylish yellow jacket from Nike suitable for college students.'), Document(metadata={'source': '/content/fashion_items.csv', 'row': 4}, page_content='Item ID: ITEM005\\nCategory: Bag\\nBrand: Nike\\nPrice: 203.42\\nColor: Pink\\nSize: XL\\nTarget Customer: College Student\\nDescription: A stylish pink bag from Nike suitable for college students.'), Document(metadata={'source': '/content/fashion_items.csv', 'row': 5}, page_content='Item ID: ITEM006\\nCategory: Dress\\nBrand: Adidas\\nPrice: 319.28\\nColor: Yellow\\nSize: XL\\nTarget Customer: Executive\\nDescription: A stylish yellow dress from Adidas suitable for executives.'), Document(metadata={'source': '/content/fashion_items.csv', 'row': 6}, page_content='Item ID: ITEM007\\nCategory: Shoes\\nBrand: Prada\\nPrice: 133.74\\nColor: Green\\nSize: XXL\\nTarget Customer: New Employee\\nDescription: A stylish green shoes from Prada suitable for new employees.'), Document(metadata={'source': '/content/fashion_items.csv', 'row': 7}, page_content='Item ID: ITEM008\\nCategory: T-shirt\\nBrand: Prada\\nPrice: 71.63\\nColor: Purple\\nSize: M\\nTarget Customer: Executive\\nDescription: A stylish purple t-shirt from Prada suitable for executives.'), Document(metadata={'source': '/content/fashion_items.csv', 'row': 8}, page_content='Item ID: ITEM009\\nCategory: Bag\\nBrand: Zara\\nPrice: 469.42\\nColor: Yellow\\nSize: XS\\nTarget Customer: College Student\\nDescription: A stylish yellow bag from Zara suitable for college students.'), Document(metadata={'source': '/content/fashion_items.csv', 'row': 9}, page_content='Item ID: ITEM010\\nCategory: Jacket\\nBrand: H&M\\nPrice: 349.12\\nColor: Pink\\nSize: M\\nTarget Customer: New Employee\\nDescription: A stylish pink jacket from H&M suitable for new employees.'), Document(metadata={'source': '/content/fashion_items.csv', 'row': 10}, page_content='Item ID: ITEM011\\nCategory: Hat\\nBrand: Puma\\nPrice: 66.74\\nColor: Gray\\nSize: L\\nTarget Customer: New Employee\\nDescription: A stylish gray hat from Puma suitable for new employees.'), Document(metadata={'source': '/content/fashion_items.csv', 'row': 11}, page_content='Item ID: ITEM012\\nCategory: T-shirt\\nBrand: Uniqlo\\nPrice: 293.51\\nColor: Pink\\nSize: XS\\nTarget Customer: College Student\\nDescription: A stylish pink t-shirt from Uniqlo suitable for college students.'), Document(metadata={'source': '/content/fashion_items.csv', 'row': 12}, page_content='Item ID: ITEM013\\nCategory: Bag\\nBrand: Nike\\nPrice: 196.88\\nColor: Yellow\\nSize: XXL\\nTarget Customer: Executive\\nDescription: A stylish yellow bag from Nike suitable for executives.'), Document(metadata={'source': '/content/fashion_items.csv', 'row': 13}, page_content='Item ID: ITEM014\\nCategory: Shoes\\nBrand: Uniqlo\\nPrice: 106.54\\nColor: Black\\nSize: S\\nTarget Customer: New Employee\\nDescription: A stylish black shoes from Uniqlo suitable for new employees.'), Document(metadata={'source': '/content/fashion_items.csv', 'row': 14}, page_content='Item ID: ITEM015\\nCategory: Skirt\\nBrand: Nike\\nPrice: 139.59\\nColor: Brown\\nSize: M\\nTarget Customer: College Student\\nDescription: A stylish brown skirt from Nike suitable for college students.'), Document(metadata={'source': '/content/fashion_items.csv', 'row': 15}, page_content='Item ID: ITEM016\\nCategory: Dress\\nBrand: Uniqlo\\nPrice: 383.08\\nColor: Brown\\nSize: S\\nTarget Customer: New Employee\\nDescription: A stylish brown dress from Uniqlo suitable for new employees.'), Document(metadata={'source': '/content/fashion_items.csv', 'row': 16}, page_content='Item ID: ITEM017\\nCategory: Hat\\nBrand: Uniqlo\\nPrice: 86.04\\nColor: Gray\\nSize: XS\\nTarget Customer: Executive\\nDescription: A stylish gray hat from Uniqlo suitable for executives.'), Document(metadata={'source': '/content/fashion_items.csv', 'row': 17}, page_content='Item ID: ITEM018\\nCategory: Jeans\\nBrand: Adidas\\nPrice: 329.33\\nColor: Pink\\nSize: M\\nTarget Customer: New Employee\\nDescription: A stylish pink jeans from Adidas suitable for new employees.'), Document(metadata={'source': '/content/fashion_items.csv', 'row': 18}, page_content='Item ID: ITEM019\\nCategory: T-shirt\\nBrand: Reebok\\nPrice: 238.36\\nColor: Gray\\nSize: S\\nTarget Customer: Executive\\nDescription: A stylish gray t-shirt from Reebok suitable for executives.'), Document(metadata={'source': '/content/fashion_items.csv', 'row': 19}, page_content=\"Item ID: ITEM020\\nCategory: Jeans\\nBrand: Levi's\\nPrice: 443.83\\nColor: Purple\\nSize: XXL\\nTarget Customer: College Student\\nDescription: A stylish purple jeans from Levi's suitable for college students.\"), Document(metadata={'source': '/content/fashion_items.csv', 'row': 20}, page_content=\"Item ID: ITEM021\\nCategory: Bag\\nBrand: Levi's\\nPrice: 156.32\\nColor: Brown\\nSize: XL\\nTarget Customer: Executive\\nDescription: A stylish brown bag from Levi's suitable for executives.\"), Document(metadata={'source': '/content/fashion_items.csv', 'row': 21}, page_content='Item ID: ITEM022\\nCategory: Shoes\\nBrand: Prada\\nPrice: 263.33\\nColor: Black\\nSize: XXL\\nTarget Customer: College Student\\nDescription: A stylish black shoes from Prada suitable for college students.'), Document(metadata={'source': '/content/fashion_items.csv', 'row': 22}, page_content='Item ID: ITEM023\\nCategory: Sweater\\nBrand: Reebok\\nPrice: 114.79\\nColor: Blue\\nSize: L\\nTarget Customer: College Student\\nDescription: A stylish blue sweater from Reebok suitable for college students.'), Document(metadata={'source': '/content/fashion_items.csv', 'row': 23}, page_content='Item ID: ITEM024\\nCategory: Jacket\\nBrand: H&M\\nPrice: 84.95\\nColor: Yellow\\nSize: XL\\nTarget Customer: College Student\\nDescription: A stylish yellow jacket from H&M suitable for college students.'), Document(metadata={'source': '/content/fashion_items.csv', 'row': 24}, page_content='Item ID: ITEM025\\nCategory: Jacket\\nBrand: Prada\\nPrice: 209.1\\nColor: Yellow\\nSize: S\\nTarget Customer: Executive\\nDescription: A stylish yellow jacket from Prada suitable for executives.'), Document(metadata={'source': '/content/fashion_items.csv', 'row': 25}, page_content=\"Item ID: ITEM026\\nCategory: Bag\\nBrand: Levi's\\nPrice: 437.02\\nColor: Black\\nSize: XL\\nTarget Customer: New Employee\\nDescription: A stylish black bag from Levi's suitable for new employees.\"), Document(metadata={'source': '/content/fashion_items.csv', 'row': 26}, page_content=\"Item ID: ITEM027\\nCategory: Sweater\\nBrand: Levi's\\nPrice: 124.4\\nColor: Brown\\nSize: XL\\nTarget Customer: College Student\\nDescription: A stylish brown sweater from Levi's suitable for college students.\"), Document(metadata={'source': '/content/fashion_items.csv', 'row': 27}, page_content='Item ID: ITEM028\\nCategory: Skirt\\nBrand: H&M\\nPrice: 423.66\\nColor: Green\\nSize: XS\\nTarget Customer: Executive\\nDescription: A stylish green skirt from H&M suitable for executives.'), Document(metadata={'source': '/content/fashion_items.csv', 'row': 28}, page_content='Item ID: ITEM029\\nCategory: Dress\\nBrand: Zara\\nPrice: 383.34\\nColor: Black\\nSize: M\\nTarget Customer: College Student\\nDescription: A stylish black dress from Zara suitable for college students.'), Document(metadata={'source': '/content/fashion_items.csv', 'row': 29}, page_content='Item ID: ITEM030\\nCategory: Shorts\\nBrand: Prada\\nPrice: 478.66\\nColor: Brown\\nSize: XS\\nTarget Customer: Executive\\nDescription: A stylish brown shorts from Prada suitable for executives.'), Document(metadata={'source': '/content/fashion_items.csv', 'row': 30}, page_content='Item ID: ITEM031\\nCategory: Skirt\\nBrand: Uniqlo\\nPrice: 306.73\\nColor: Blue\\nSize: M\\nTarget Customer: Executive\\nDescription: A stylish blue skirt from Uniqlo suitable for executives.'), Document(metadata={'source': '/content/fashion_items.csv', 'row': 31}, page_content='Item ID: ITEM032\\nCategory: T-shirt\\nBrand: Puma\\nPrice: 383.06\\nColor: Gray\\nSize: XXL\\nTarget Customer: College Student\\nDescription: A stylish gray t-shirt from Puma suitable for college students.'), Document(metadata={'source': '/content/fashion_items.csv', 'row': 32}, page_content=\"Item ID: ITEM033\\nCategory: Bag\\nBrand: Levi's\\nPrice: 35.66\\nColor: Blue\\nSize: S\\nTarget Customer: New Employee\\nDescription: A stylish blue bag from Levi's suitable for new employees.\"), Document(metadata={'source': '/content/fashion_items.csv', 'row': 33}, page_content='Item ID: ITEM034\\nCategory: Shoes\\nBrand: Adidas\\nPrice: 135.28\\nColor: Yellow\\nSize: M\\nTarget Customer: College Student\\nDescription: A stylish yellow shoes from Adidas suitable for college students.'), Document(metadata={'source': '/content/fashion_items.csv', 'row': 34}, page_content=\"Item ID: ITEM035\\nCategory: Jeans\\nBrand: Levi's\\nPrice: 88.65\\nColor: Black\\nSize: XL\\nTarget Customer: Executive\\nDescription: A stylish black jeans from Levi's suitable for executives.\"), Document(metadata={'source': '/content/fashion_items.csv', 'row': 35}, page_content='Item ID: ITEM036\\nCategory: Dress\\nBrand: Puma\\nPrice: 255.33\\nColor: Black\\nSize: XS\\nTarget Customer: Executive\\nDescription: A stylish black dress from Puma suitable for executives.'), Document(metadata={'source': '/content/fashion_items.csv', 'row': 36}, page_content='Item ID: ITEM037\\nCategory: Hat\\nBrand: H&M\\nPrice: 163.65\\nColor: Gray\\nSize: XL\\nTarget Customer: New Employee\\nDescription: A stylish gray hat from H&M suitable for new employees.'), Document(metadata={'source': '/content/fashion_items.csv', 'row': 37}, page_content='Item ID: ITEM038\\nCategory: Sweater\\nBrand: Gucci\\nPrice: 99.92\\nColor: Red\\nSize: XS\\nTarget Customer: Executive\\nDescription: A stylish red sweater from Gucci suitable for executives.'), Document(metadata={'source': '/content/fashion_items.csv', 'row': 38}, page_content='Item ID: ITEM039\\nCategory: Hat\\nBrand: H&M\\nPrice: 447.06\\nColor: Red\\nSize: M\\nTarget Customer: College Student\\nDescription: A stylish red hat from H&M suitable for college students.'), Document(metadata={'source': '/content/fashion_items.csv', 'row': 39}, page_content='Item ID: ITEM040\\nCategory: Dress\\nBrand: Uniqlo\\nPrice: 476.3\\nColor: Yellow\\nSize: XS\\nTarget Customer: New Employee\\nDescription: A stylish yellow dress from Uniqlo suitable for new employees.'), Document(metadata={'source': '/content/fashion_items.csv', 'row': 40}, page_content='Item ID: ITEM041\\nCategory: T-shirt\\nBrand: Nike\\nPrice: 182.7\\nColor: Purple\\nSize: M\\nTarget Customer: New Employee\\nDescription: A stylish purple t-shirt from Nike suitable for new employees.'), Document(metadata={'source': '/content/fashion_items.csv', 'row': 41}, page_content='Item ID: ITEM042\\nCategory: Shorts\\nBrand: Gucci\\nPrice: 228.45\\nColor: Red\\nSize: S\\nTarget Customer: Executive\\nDescription: A stylish red shorts from Gucci suitable for executives.'), Document(metadata={'source': '/content/fashion_items.csv', 'row': 42}, page_content='Item ID: ITEM043\\nCategory: Jeans\\nBrand: Uniqlo\\nPrice: 62.71\\nColor: Pink\\nSize: XXL\\nTarget Customer: New Employee\\nDescription: A stylish pink jeans from Uniqlo suitable for new employees.'), Document(metadata={'source': '/content/fashion_items.csv', 'row': 43}, page_content='Item ID: ITEM044\\nCategory: Hat\\nBrand: Adidas\\nPrice: 49.48\\nColor: Brown\\nSize: XXL\\nTarget Customer: New Employee\\nDescription: A stylish brown hat from Adidas suitable for new employees.'), Document(metadata={'source': '/content/fashion_items.csv', 'row': 44}, page_content='Item ID: ITEM045\\nCategory: Sweater\\nBrand: Gucci\\nPrice: 496.01\\nColor: Purple\\nSize: XXL\\nTarget Customer: New Employee\\nDescription: A stylish purple sweater from Gucci suitable for new employees.'), Document(metadata={'source': '/content/fashion_items.csv', 'row': 45}, page_content='Item ID: ITEM046\\nCategory: Bag\\nBrand: Zara\\nPrice: 331.3\\nColor: Red\\nSize: XXL\\nTarget Customer: Executive\\nDescription: A stylish red bag from Zara suitable for executives.'), Document(metadata={'source': '/content/fashion_items.csv', 'row': 46}, page_content='Item ID: ITEM047\\nCategory: Jeans\\nBrand: Adidas\\nPrice: 208.74\\nColor: Green\\nSize: S\\nTarget Customer: Executive\\nDescription: A stylish green jeans from Adidas suitable for executives.'), Document(metadata={'source': '/content/fashion_items.csv', 'row': 47}, page_content='Item ID: ITEM048\\nCategory: Jeans\\nBrand: Adidas\\nPrice: 250.22\\nColor: Red\\nSize: S\\nTarget Customer: College Student\\nDescription: A stylish red jeans from Adidas suitable for college students.'), Document(metadata={'source': '/content/fashion_items.csv', 'row': 48}, page_content='Item ID: ITEM049\\nCategory: Jacket\\nBrand: Zara\\nPrice: 270.5\\nColor: Brown\\nSize: M\\nTarget Customer: New Employee\\nDescription: A stylish brown jacket from Zara suitable for new employees.'), Document(metadata={'source': '/content/fashion_items.csv', 'row': 49}, page_content='Item ID: ITEM050\\nCategory: Jacket\\nBrand: Gucci\\nPrice: 269.19\\nColor: Brown\\nSize: XL\\nTarget Customer: New Employee\\nDescription: A stylish brown jacket from Gucci suitable for new employees.'), Document(metadata={'source': '/content/fashion_items.csv', 'row': 50}, page_content='Item ID: ITEM051\\nCategory: Bag\\nBrand: Nike\\nPrice: 169.08\\nColor: Gray\\nSize: S\\nTarget Customer: Executive\\nDescription: A stylish gray bag from Nike suitable for executives.'), Document(metadata={'source': '/content/fashion_items.csv', 'row': 51}, page_content='Item ID: ITEM052\\nCategory: Jacket\\nBrand: Prada\\nPrice: 461.4\\nColor: Gray\\nSize: XL\\nTarget Customer: College Student\\nDescription: A stylish gray jacket from Prada suitable for college students.'), Document(metadata={'source': '/content/fashion_items.csv', 'row': 52}, page_content='Item ID: ITEM053\\nCategory: Jacket\\nBrand: Zara\\nPrice: 65.73\\nColor: Black\\nSize: XXL\\nTarget Customer: Executive\\nDescription: A stylish black jacket from Zara suitable for executives.'), Document(metadata={'source': '/content/fashion_items.csv', 'row': 53}, page_content='Item ID: ITEM054\\nCategory: Shorts\\nBrand: Reebok\\nPrice: 358.15\\nColor: Brown\\nSize: S\\nTarget Customer: College Student\\nDescription: A stylish brown shorts from Reebok suitable for college students.'), Document(metadata={'source': '/content/fashion_items.csv', 'row': 54}, page_content='Item ID: ITEM055\\nCategory: Hat\\nBrand: Prada\\nPrice: 224.95\\nColor: White\\nSize: L\\nTarget Customer: College Student\\nDescription: A stylish white hat from Prada suitable for college students.'), Document(metadata={'source': '/content/fashion_items.csv', 'row': 55}, page_content='Item ID: ITEM056\\nCategory: Shoes\\nBrand: Zara\\nPrice: 499.28\\nColor: Blue\\nSize: XS\\nTarget Customer: College Student\\nDescription: A stylish blue shoes from Zara suitable for college students.'), Document(metadata={'source': '/content/fashion_items.csv', 'row': 56}, page_content=\"Item ID: ITEM057\\nCategory: Shoes\\nBrand: Levi's\\nPrice: 483.09\\nColor: Black\\nSize: XS\\nTarget Customer: College Student\\nDescription: A stylish black shoes from Levi's suitable for college students.\"), Document(metadata={'source': '/content/fashion_items.csv', 'row': 57}, page_content='Item ID: ITEM058\\nCategory: Jacket\\nBrand: Gucci\\nPrice: 206.03\\nColor: Green\\nSize: M\\nTarget Customer: College Student\\nDescription: A stylish green jacket from Gucci suitable for college students.'), Document(metadata={'source': '/content/fashion_items.csv', 'row': 58}, page_content='Item ID: ITEM059\\nCategory: T-shirt\\nBrand: H&M\\nPrice: 323.69\\nColor: Red\\nSize: XL\\nTarget Customer: Executive\\nDescription: A stylish red t-shirt from H&M suitable for executives.'), Document(metadata={'source': '/content/fashion_items.csv', 'row': 59}, page_content='Item ID: ITEM060\\nCategory: Hat\\nBrand: Uniqlo\\nPrice: 39.96\\nColor: Yellow\\nSize: XXL\\nTarget Customer: New Employee\\nDescription: A stylish yellow hat from Uniqlo suitable for new employees.'), Document(metadata={'source': '/content/fashion_items.csv', 'row': 60}, page_content='Item ID: ITEM061\\nCategory: Sweater\\nBrand: Nike\\nPrice: 392.42\\nColor: Purple\\nSize: M\\nTarget Customer: New Employee\\nDescription: A stylish purple sweater from Nike suitable for new employees.'), Document(metadata={'source': '/content/fashion_items.csv', 'row': 61}, page_content='Item ID: ITEM062\\nCategory: Hat\\nBrand: Prada\\nPrice: 393.29\\nColor: Green\\nSize: XL\\nTarget Customer: College Student\\nDescription: A stylish green hat from Prada suitable for college students.'), Document(metadata={'source': '/content/fashion_items.csv', 'row': 62}, page_content='Item ID: ITEM063\\nCategory: Skirt\\nBrand: Gucci\\nPrice: 495.69\\nColor: Blue\\nSize: XS\\nTarget Customer: New Employee\\nDescription: A stylish blue skirt from Gucci suitable for new employees.'), Document(metadata={'source': '/content/fashion_items.csv', 'row': 63}, page_content='Item ID: ITEM064\\nCategory: Sweater\\nBrand: Puma\\nPrice: 103.17\\nColor: Green\\nSize: XS\\nTarget Customer: New Employee\\nDescription: A stylish green sweater from Puma suitable for new employees.'), Document(metadata={'source': '/content/fashion_items.csv', 'row': 64}, page_content='Item ID: ITEM065\\nCategory: Skirt\\nBrand: Prada\\nPrice: 403.05\\nColor: Gray\\nSize: L\\nTarget Customer: Executive\\nDescription: A stylish gray skirt from Prada suitable for executives.'), Document(metadata={'source': '/content/fashion_items.csv', 'row': 65}, page_content='Item ID: ITEM066\\nCategory: Jeans\\nBrand: Uniqlo\\nPrice: 365.24\\nColor: White\\nSize: L\\nTarget Customer: College Student\\nDescription: A stylish white jeans from Uniqlo suitable for college students.'), Document(metadata={'source': '/content/fashion_items.csv', 'row': 66}, page_content='Item ID: ITEM067\\nCategory: Sweater\\nBrand: Uniqlo\\nPrice: 217.48\\nColor: Blue\\nSize: S\\nTarget Customer: New Employee\\nDescription: A stylish blue sweater from Uniqlo suitable for new employees.'), Document(metadata={'source': '/content/fashion_items.csv', 'row': 67}, page_content=\"Item ID: ITEM068\\nCategory: Shoes\\nBrand: Levi's\\nPrice: 482.37\\nColor: Brown\\nSize: S\\nTarget Customer: Executive\\nDescription: A stylish brown shoes from Levi's suitable for executives.\"), Document(metadata={'source': '/content/fashion_items.csv', 'row': 68}, page_content='Item ID: ITEM069\\nCategory: Jeans\\nBrand: Reebok\\nPrice: 119.8\\nColor: Green\\nSize: XXL\\nTarget Customer: College Student\\nDescription: A stylish green jeans from Reebok suitable for college students.'), Document(metadata={'source': '/content/fashion_items.csv', 'row': 69}, page_content='Item ID: ITEM070\\nCategory: Dress\\nBrand: Nike\\nPrice: 49.19\\nColor: Pink\\nSize: L\\nTarget Customer: Executive\\nDescription: A stylish pink dress from Nike suitable for executives.'), Document(metadata={'source': '/content/fashion_items.csv', 'row': 70}, page_content='Item ID: ITEM071\\nCategory: Hat\\nBrand: Prada\\nPrice: 61.29\\nColor: White\\nSize: M\\nTarget Customer: College Student\\nDescription: A stylish white hat from Prada suitable for college students.'), Document(metadata={'source': '/content/fashion_items.csv', 'row': 71}, page_content='Item ID: ITEM072\\nCategory: Dress\\nBrand: Nike\\nPrice: 34.29\\nColor: White\\nSize: M\\nTarget Customer: Executive\\nDescription: A stylish white dress from Nike suitable for executives.'), Document(metadata={'source': '/content/fashion_items.csv', 'row': 72}, page_content='Item ID: ITEM073\\nCategory: Shorts\\nBrand: Zara\\nPrice: 58.51\\nColor: Brown\\nSize: XS\\nTarget Customer: New Employee\\nDescription: A stylish brown shorts from Zara suitable for new employees.'), Document(metadata={'source': '/content/fashion_items.csv', 'row': 73}, page_content='Item ID: ITEM074\\nCategory: Sweater\\nBrand: Prada\\nPrice: 134.58\\nColor: Yellow\\nSize: L\\nTarget Customer: Executive\\nDescription: A stylish yellow sweater from Prada suitable for executives.'), Document(metadata={'source': '/content/fashion_items.csv', 'row': 74}, page_content='Item ID: ITEM075\\nCategory: Shoes\\nBrand: Puma\\nPrice: 467.89\\nColor: Pink\\nSize: XS\\nTarget Customer: Executive\\nDescription: A stylish pink shoes from Puma suitable for executives.'), Document(metadata={'source': '/content/fashion_items.csv', 'row': 75}, page_content='Item ID: ITEM076\\nCategory: Dress\\nBrand: H&M\\nPrice: 202.05\\nColor: Black\\nSize: S\\nTarget Customer: New Employee\\nDescription: A stylish black dress from H&M suitable for new employees.'), Document(metadata={'source': '/content/fashion_items.csv', 'row': 76}, page_content='Item ID: ITEM077\\nCategory: Jacket\\nBrand: Reebok\\nPrice: 158.75\\nColor: Yellow\\nSize: S\\nTarget Customer: Executive\\nDescription: A stylish yellow jacket from Reebok suitable for executives.'), Document(metadata={'source': '/content/fashion_items.csv', 'row': 77}, page_content='Item ID: ITEM078\\nCategory: Bag\\nBrand: H&M\\nPrice: 25.17\\nColor: Brown\\nSize: XXL\\nTarget Customer: Executive\\nDescription: A stylish brown bag from H&M suitable for executives.'), Document(metadata={'source': '/content/fashion_items.csv', 'row': 78}, page_content='Item ID: ITEM079\\nCategory: Dress\\nBrand: Reebok\\nPrice: 418.37\\nColor: Pink\\nSize: S\\nTarget Customer: New Employee\\nDescription: A stylish pink dress from Reebok suitable for new employees.'), Document(metadata={'source': '/content/fashion_items.csv', 'row': 79}, page_content='Item ID: ITEM080\\nCategory: Skirt\\nBrand: Uniqlo\\nPrice: 347.83\\nColor: White\\nSize: L\\nTarget Customer: College Student\\nDescription: A stylish white skirt from Uniqlo suitable for college students.'), Document(metadata={'source': '/content/fashion_items.csv', 'row': 80}, page_content='Item ID: ITEM081\\nCategory: Shorts\\nBrand: Puma\\nPrice: 460.16\\nColor: Yellow\\nSize: XL\\nTarget Customer: New Employee\\nDescription: A stylish yellow shorts from Puma suitable for new employees.'), Document(metadata={'source': '/content/fashion_items.csv', 'row': 81}, page_content='Item ID: ITEM082\\nCategory: Shoes\\nBrand: Nike\\nPrice: 255.37\\nColor: Yellow\\nSize: L\\nTarget Customer: College Student\\nDescription: A stylish yellow shoes from Nike suitable for college students.'), Document(metadata={'source': '/content/fashion_items.csv', 'row': 82}, page_content=\"Item ID: ITEM083\\nCategory: Bag\\nBrand: Levi's\\nPrice: 232.58\\nColor: Purple\\nSize: S\\nTarget Customer: College Student\\nDescription: A stylish purple bag from Levi's suitable for college students.\"), Document(metadata={'source': '/content/fashion_items.csv', 'row': 83}, page_content='Item ID: ITEM084\\nCategory: Bag\\nBrand: Puma\\nPrice: 393.82\\nColor: Green\\nSize: XL\\nTarget Customer: Executive\\nDescription: A stylish green bag from Puma suitable for executives.'), Document(metadata={'source': '/content/fashion_items.csv', 'row': 84}, page_content='Item ID: ITEM085\\nCategory: Jeans\\nBrand: Gucci\\nPrice: 191.87\\nColor: Brown\\nSize: S\\nTarget Customer: New Employee\\nDescription: A stylish brown jeans from Gucci suitable for new employees.'), Document(metadata={'source': '/content/fashion_items.csv', 'row': 85}, page_content='Item ID: ITEM086\\nCategory: Shorts\\nBrand: Adidas\\nPrice: 316.35\\nColor: Yellow\\nSize: L\\nTarget Customer: New Employee\\nDescription: A stylish yellow shorts from Adidas suitable for new employees.'), Document(metadata={'source': '/content/fashion_items.csv', 'row': 86}, page_content='Item ID: ITEM087\\nCategory: Bag\\nBrand: H&M\\nPrice: 164.55\\nColor: Green\\nSize: S\\nTarget Customer: New Employee\\nDescription: A stylish green bag from H&M suitable for new employees.'), Document(metadata={'source': '/content/fashion_items.csv', 'row': 87}, page_content='Item ID: ITEM088\\nCategory: Skirt\\nBrand: Prada\\nPrice: 159.58\\nColor: Yellow\\nSize: XS\\nTarget Customer: College Student\\nDescription: A stylish yellow skirt from Prada suitable for college students.'), Document(metadata={'source': '/content/fashion_items.csv', 'row': 88}, page_content='Item ID: ITEM089\\nCategory: Shoes\\nBrand: Gucci\\nPrice: 480.99\\nColor: Pink\\nSize: XL\\nTarget Customer: New Employee\\nDescription: A stylish pink shoes from Gucci suitable for new employees.'), Document(metadata={'source': '/content/fashion_items.csv', 'row': 89}, page_content='Item ID: ITEM090\\nCategory: Sweater\\nBrand: Uniqlo\\nPrice: 496.48\\nColor: Black\\nSize: M\\nTarget Customer: New Employee\\nDescription: A stylish black sweater from Uniqlo suitable for new employees.'), Document(metadata={'source': '/content/fashion_items.csv', 'row': 90}, page_content='Item ID: ITEM091\\nCategory: Dress\\nBrand: Zara\\nPrice: 371.67\\nColor: Gray\\nSize: S\\nTarget Customer: College Student\\nDescription: A stylish gray dress from Zara suitable for college students.'), Document(metadata={'source': '/content/fashion_items.csv', 'row': 91}, page_content='Item ID: ITEM092\\nCategory: Shoes\\nBrand: Adidas\\nPrice: 120.72\\nColor: Gray\\nSize: S\\nTarget Customer: College Student\\nDescription: A stylish gray shoes from Adidas suitable for college students.'), Document(metadata={'source': '/content/fashion_items.csv', 'row': 92}, page_content=\"Item ID: ITEM093\\nCategory: Bag\\nBrand: Levi's\\nPrice: 71.01\\nColor: Blue\\nSize: M\\nTarget Customer: Executive\\nDescription: A stylish blue bag from Levi's suitable for executives.\"), Document(metadata={'source': '/content/fashion_items.csv', 'row': 93}, page_content='Item ID: ITEM094\\nCategory: Shorts\\nBrand: Adidas\\nPrice: 99.49\\nColor: Purple\\nSize: L\\nTarget Customer: Executive\\nDescription: A stylish purple shorts from Adidas suitable for executives.'), Document(metadata={'source': '/content/fashion_items.csv', 'row': 94}, page_content='Item ID: ITEM095\\nCategory: Sweater\\nBrand: Uniqlo\\nPrice: 96.66\\nColor: Brown\\nSize: XL\\nTarget Customer: New Employee\\nDescription: A stylish brown sweater from Uniqlo suitable for new employees.'), Document(metadata={'source': '/content/fashion_items.csv', 'row': 95}, page_content='Item ID: ITEM096\\nCategory: Shoes\\nBrand: Gucci\\nPrice: 160.74\\nColor: Brown\\nSize: L\\nTarget Customer: Executive\\nDescription: A stylish brown shoes from Gucci suitable for executives.'), Document(metadata={'source': '/content/fashion_items.csv', 'row': 96}, page_content='Item ID: ITEM097\\nCategory: Skirt\\nBrand: Zara\\nPrice: 132.24\\nColor: Purple\\nSize: XXL\\nTarget Customer: New Employee\\nDescription: A stylish purple skirt from Zara suitable for new employees.'), Document(metadata={'source': '/content/fashion_items.csv', 'row': 97}, page_content='Item ID: ITEM098\\nCategory: Jeans\\nBrand: Uniqlo\\nPrice: 20.87\\nColor: Black\\nSize: XS\\nTarget Customer: New Employee\\nDescription: A stylish black jeans from Uniqlo suitable for new employees.'), Document(metadata={'source': '/content/fashion_items.csv', 'row': 98}, page_content='Item ID: ITEM099\\nCategory: Sweater\\nBrand: Gucci\\nPrice: 498.25\\nColor: Gray\\nSize: XXL\\nTarget Customer: New Employee\\nDescription: A stylish gray sweater from Gucci suitable for new employees.'), Document(metadata={'source': '/content/fashion_items.csv', 'row': 99}, page_content='Item ID: ITEM100\\nCategory: Shoes\\nBrand: Nike\\nPrice: 43.62\\nColor: Red\\nSize: M\\nTarget Customer: Executive\\nDescription: A stylish red shoes from Nike suitable for executives.')]\n"
          ]
        }
      ]
    },
    {
      "cell_type": "code",
      "metadata": {
        "colab": {
          "base_uri": "https://localhost:8080/"
        },
        "id": "65413e3d",
        "outputId": "493e29f6-13a9-4968-c82f-55bdde28294f"
      },
      "source": [
        "# Display the first 10 documents\n",
        "for i, doc in enumerate(data[:10]):\n",
        "    print(f\"--- Document {i+1} ---\")\n",
        "    print(f\"Metadata: {doc.metadata}\")\n",
        "    print(f\"Page Content:\\n{doc.page_content}\")\n",
        "    print(\"-\" * 20)"
      ],
      "execution_count": null,
      "outputs": [
        {
          "output_type": "stream",
          "name": "stdout",
          "text": [
            "--- Document 1 ---\n",
            "Metadata: {'source': '/content/fashion_items.csv', 'row': 0}\n",
            "Page Content:\n",
            "Item ID: ITEM001\n",
            "Category: Sweater\n",
            "Brand: Levi's\n",
            "Price: 106.91\n",
            "Color: Black\n",
            "Size: S\n",
            "Target Customer: New Employee\n",
            "Description: A stylish black sweater from Levi's suitable for new employees.\n",
            "--------------------\n",
            "--- Document 2 ---\n",
            "Metadata: {'source': '/content/fashion_items.csv', 'row': 1}\n",
            "Page Content:\n",
            "Item ID: ITEM002\n",
            "Category: Bag\n",
            "Brand: Zara\n",
            "Price: 241.95\n",
            "Color: Brown\n",
            "Size: L\n",
            "Target Customer: College Student\n",
            "Description: A stylish brown bag from Zara suitable for college students.\n",
            "--------------------\n",
            "--- Document 3 ---\n",
            "Metadata: {'source': '/content/fashion_items.csv', 'row': 2}\n",
            "Page Content:\n",
            "Item ID: ITEM003\n",
            "Category: Shorts\n",
            "Brand: H&M\n",
            "Price: 128.32\n",
            "Color: Brown\n",
            "Size: XXL\n",
            "Target Customer: New Employee\n",
            "Description: A stylish brown shorts from H&M suitable for new employees.\n",
            "--------------------\n",
            "--- Document 4 ---\n",
            "Metadata: {'source': '/content/fashion_items.csv', 'row': 3}\n",
            "Page Content:\n",
            "Item ID: ITEM004\n",
            "Category: Jacket\n",
            "Brand: Nike\n",
            "Price: 333.6\n",
            "Color: Yellow\n",
            "Size: XL\n",
            "Target Customer: College Student\n",
            "Description: A stylish yellow jacket from Nike suitable for college students.\n",
            "--------------------\n",
            "--- Document 5 ---\n",
            "Metadata: {'source': '/content/fashion_items.csv', 'row': 4}\n",
            "Page Content:\n",
            "Item ID: ITEM005\n",
            "Category: Bag\n",
            "Brand: Nike\n",
            "Price: 203.42\n",
            "Color: Pink\n",
            "Size: XL\n",
            "Target Customer: College Student\n",
            "Description: A stylish pink bag from Nike suitable for college students.\n",
            "--------------------\n",
            "--- Document 6 ---\n",
            "Metadata: {'source': '/content/fashion_items.csv', 'row': 5}\n",
            "Page Content:\n",
            "Item ID: ITEM006\n",
            "Category: Dress\n",
            "Brand: Adidas\n",
            "Price: 319.28\n",
            "Color: Yellow\n",
            "Size: XL\n",
            "Target Customer: Executive\n",
            "Description: A stylish yellow dress from Adidas suitable for executives.\n",
            "--------------------\n",
            "--- Document 7 ---\n",
            "Metadata: {'source': '/content/fashion_items.csv', 'row': 6}\n",
            "Page Content:\n",
            "Item ID: ITEM007\n",
            "Category: Shoes\n",
            "Brand: Prada\n",
            "Price: 133.74\n",
            "Color: Green\n",
            "Size: XXL\n",
            "Target Customer: New Employee\n",
            "Description: A stylish green shoes from Prada suitable for new employees.\n",
            "--------------------\n",
            "--- Document 8 ---\n",
            "Metadata: {'source': '/content/fashion_items.csv', 'row': 7}\n",
            "Page Content:\n",
            "Item ID: ITEM008\n",
            "Category: T-shirt\n",
            "Brand: Prada\n",
            "Price: 71.63\n",
            "Color: Purple\n",
            "Size: M\n",
            "Target Customer: Executive\n",
            "Description: A stylish purple t-shirt from Prada suitable for executives.\n",
            "--------------------\n",
            "--- Document 9 ---\n",
            "Metadata: {'source': '/content/fashion_items.csv', 'row': 8}\n",
            "Page Content:\n",
            "Item ID: ITEM009\n",
            "Category: Bag\n",
            "Brand: Zara\n",
            "Price: 469.42\n",
            "Color: Yellow\n",
            "Size: XS\n",
            "Target Customer: College Student\n",
            "Description: A stylish yellow bag from Zara suitable for college students.\n",
            "--------------------\n",
            "--- Document 10 ---\n",
            "Metadata: {'source': '/content/fashion_items.csv', 'row': 9}\n",
            "Page Content:\n",
            "Item ID: ITEM010\n",
            "Category: Jacket\n",
            "Brand: H&M\n",
            "Price: 349.12\n",
            "Color: Pink\n",
            "Size: M\n",
            "Target Customer: New Employee\n",
            "Description: A stylish pink jacket from H&M suitable for new employees.\n",
            "--------------------\n"
          ]
        }
      ]
    },
    {
      "cell_type": "markdown",
      "metadata": {
        "id": "599ddffa"
      },
      "source": [
        "Now, let's summarize the dataset based on the content of the documents. Each document represents a row from your CSV file. The `page_content` of each document contains the data for that row as a string, with key-value pairs separated by newlines. The `metadata` includes the source file and the row number.\n",
        "\n",
        "From the printed documents, we can see the following columns in your dataset:\n",
        "\n",
        "*   **Item ID:** A unique identifier for each fashion item.\n",
        "*   **Category:** The type of fashion item (e.g., Sweater, Bag, Shorts).\n",
        "*   **Brand:** The brand of the fashion item.\n",
        "*   **Price:** The price of the fashion item.\n",
        "*   **Color:** The color of the fashion item.\n",
        "*   **Size:** The size of the fashion item.\n",
        "*   **Target Customer:** The intended customer for the item (e.g., New Employee, College Student, Executive).\n",
        "*   **Description:** A brief description of the fashion item.\n",
        "\n",
        "To get a more detailed summary (like data types, counts, etc.) you would typically load the data into a pandas DataFrame as you did initially in cell `19EsXXPb1bRK`. However, working with the data as LangChain documents is useful for natural language processing tasks."
      ]
    }
  ]
}