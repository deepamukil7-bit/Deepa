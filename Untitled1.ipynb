{
  "nbformat": 4,
  "nbformat_minor": 0,
  "metadata": {
    "colab": {
      "provenance": [],
      "authorship_tag": "ABX9TyMWAZQVXFXAo4K35lIjKxgw",
      "include_colab_link": true
    },
    "kernelspec": {
      "name": "python3",
      "display_name": "Python 3"
    },
    "language_info": {
      "name": "python"
    }
  },
  "cells": [
    {
      "cell_type": "markdown",
      "metadata": {
        "id": "view-in-github",
        "colab_type": "text"
      },
      "source": [
        "<a href=\"https://colab.research.google.com/github/deepamukil7-bit/Deepa/blob/main/Untitled1.ipynb\" target=\"_parent\"><img src=\"https://colab.research.google.com/assets/colab-badge.svg\" alt=\"Open In Colab\"/></a>"
      ]
    },
    {
      "cell_type": "code",
      "execution_count": null,
      "metadata": {
        "id": "zxM2pU9XmEOi"
      },
      "outputs": [],
      "source": [
        "import IPython\n",
        "import os\n",
        "from google.colab import userdata\n",
        "import google.generativeai as genai\n",
        "\n",
        "# os.environ[\"GOOGLE_API_KEY\"]=userdata.get('gemini_key') # This line is not needed if using genai.configure\n",
        "\n",
        "def Generate_Content(prompt):\n",
        "   genai.configure(api_key=userdata.get('gemini_key')) # Configure the API key here\n",
        "   model = genai.GenerativeModel('gemini-2.0-flash-lite')\n",
        "   chat = model.start_chat(history=[])\n",
        "\n",
        "   response = chat.send_message(prompt)\n",
        "   gemini_response = response.text\n",
        "   return gemini_response"
      ]
    },
    {
      "cell_type": "code",
      "source": [],
      "metadata": {
        "id": "pdP8J3Yst_69"
      },
      "execution_count": null,
      "outputs": []
    },
    {
      "cell_type": "code",
      "source": [
        "\n",
        "prompt = f\"\"\"\n",
        "write a product description for a jackect from Nike in yellow and XL\n",
        "\"\"\"\n",
        "print(\"Generated Prompt:\")\n",
        "print(prompt)"
      ],
      "metadata": {
        "colab": {
          "base_uri": "https://localhost:8080/"
        },
        "id": "BBf5Y5B3nwyS",
        "outputId": "95b8e982-2c78-43e1-89db-415a58904788"
      },
      "execution_count": null,
      "outputs": [
        {
          "output_type": "stream",
          "name": "stdout",
          "text": [
            "Generated Prompt:\n",
            "\n",
            "write a product description for a jackect from Nike in yellow and XL \n",
            "\n"
          ]
        }
      ]
    },
    {
      "cell_type": "code",
      "metadata": {
        "colab": {
          "base_uri": "https://localhost:8080/",
          "height": 382
        },
        "id": "bb0466e4",
        "outputId": "2cefd4f9-a660-46dd-c3ac-06f751eadbc8"
      },
      "source": [
        "# Get Gemini response for Prompt 1\n",
        "response1 = Generate_Content(prompt1)\n",
        "print(\"\\nGemini Response for Prompt 1:\")\n",
        "print(response1)\n",
        "\n",
        "# Get Gemini response for Prompt 2\n",
        "response2 = Generate_Content(prompt2)\n",
        "print(\"\\nGemini Response for Prompt 2:\")\n",
        "print(response2)\n",
        "\n",
        "# Get Gemini response for Prompt 3\n",
        "response3 = Generate_Content(prompt3)\n",
        "print(\"\\nGemini Response for Prompt 3:\")\n",
        "print(response3)"
      ],
      "execution_count": null,
      "outputs": [
        {
          "output_type": "stream",
          "name": "stdout",
          "text": [
            "\n",
            "Gemini Response for Prompt 1:\n",
            "Okay, I'm ready! Please provide your first prompt. I'm excited to see what you'd like me to do. I can:\n",
            "\n",
            "*   **Write code:** In various programming languages.\n",
            "*   **Answer questions:** On a wide range of topics.\n",
            "*   **Generate creative content:** Poems, stories, scripts, musical pieces, email, letters, etc.\n",
            "*   **Summarize text:**\n",
            "*   **Translate languages:**\n",
            "*   **And more!**\n",
            "\n",
            "Just give me the prompt!\n",
            "\n",
            "\n",
            "Gemini Response for Prompt 2:\n",
            "Okay, I'm ready. Please provide your second prompt. I will do my best to respond to it.\n",
            "\n",
            "\n",
            "Gemini Response for Prompt 3:\n",
            "Okay, I'm ready for your third prompt! Please provide it.\n",
            "\n"
          ]
        }
      ]
    },
    {
      "cell_type": "code",
      "metadata": {
        "colab": {
          "base_uri": "https://localhost:8080/",
          "height": 1000
        },
        "id": "da73a432",
        "outputId": "6c07d59f-2529-4ef4-aefa-598f20e9197f"
      },
      "source": [
        "# Get Gemini response for Prompt 1\n",
        "response1 = Generate_Content(prompt1)\n",
        "print(\"\\nGemini Response for Prompt 1:\")\n",
        "print(response1)\n",
        "\n",
        "# Get Gemini response for Prompt 2\n",
        "response2 = Generate_Content(prompt2)\n",
        "print(\"\\nGemini Response for Prompt 2:\")\n",
        "print(response2)\n",
        "\n",
        "# Get Gemini response for Prompt 3\n",
        "response3 = Generate_Content(prompt3)\n",
        "print(\"\\nGemini Response for Prompt 3:\")\n",
        "print(response3)"
      ],
      "execution_count": null,
      "outputs": [
        {
          "output_type": "stream",
          "name": "stdout",
          "text": [
            "\n",
            "Gemini Response for Prompt 1:\n",
            "All the listed categories are available in the fashion items dataset:\n",
            "\n",
            "*   Sweater\n",
            "*   Bag\n",
            "*   Shorts\n",
            "*   Jacket\n",
            "*   Dress\n",
            "*   Shoes\n",
            "*   T-shirt\n",
            "*   Hat\n",
            "*   Skirt\n",
            "*   Jeans\n",
            "\n",
            "\n",
            "Gemini Response for Prompt 2:\n",
            "The item IDs for fashion items with a price over 300 are:\n",
            "\n",
            "['ITEM004', 'ITEM006', 'ITEM009', 'ITEM010', 'ITEM016', 'ITEM018', 'ITEM020', 'ITEM026', 'ITEM028', 'ITEM029', 'ITEM030', 'ITEM031', 'ITEM032', 'ITEM039', 'ITEM040', 'ITEM045', 'ITEM046', 'ITEM052', 'ITEM054', 'ITEM056', 'ITEM057', 'ITEM059', 'ITEM061', 'ITEM062', 'ITEM063', 'ITEM065', 'ITEM066', 'ITEM068', 'ITEM075', 'ITEM079', 'ITEM080', 'ITEM081', 'ITEM084', 'ITEM086', 'ITEM089', 'ITEM090', 'ITEM091', 'ITEM099']\n",
            "\n",
            "\n",
            "Gemini Response for Prompt 3:\n",
            "Okay, I have the list of Item IDs you requested:\n",
            "\n",
            "*   ITEM001\n",
            "*   ITEM003\n",
            "*   ITEM007\n",
            "*   ITEM010\n",
            "*   ITEM011\n",
            "*   ITEM014\n",
            "*   ITEM016\n",
            "*   ITEM018\n",
            "*   ITEM026\n",
            "*   ITEM033\n",
            "*   ITEM037\n",
            "*   ITEM040\n",
            "*   ITEM041\n",
            "*   ITEM043\n",
            "*   ITEM044\n",
            "*   ITEM045\n",
            "*   ITEM049\n",
            "*   ITEM050\n",
            "*   ITEM060\n",
            "*   ITEM061\n",
            "*   ITEM063\n",
            "*   ITEM064\n",
            "*   ITEM067\n",
            "*   ITEM073\n",
            "*   ITEM076\n",
            "*   ITEM079\n",
            "*   ITEM081\n",
            "*   ITEM085\n",
            "*   ITEM086\n",
            "*   ITEM087\n",
            "*   ITEM089\n",
            "*   ITEM090\n",
            "*   ITEM095\n",
            "*   ITEM097\n",
            "*   ITEM098\n",
            "*   ITEM099\n",
            "\n"
          ]
        }
      ]
    },
    {
      "cell_type": "code",
      "metadata": {
        "colab": {
          "base_uri": "https://localhost:8080/"
        },
        "id": "65a7faca",
        "outputId": "373343c2-52e7-4df9-9344-7fd61532479e"
      },
      "source": [
        "# Prompt 1: Get all unique categories\n",
        "categories = df['Category'].unique().tolist()\n",
        "prompt1 = f\"List all available categories in the fashion items dataset: {categories}\"\n",
        "print(\"Prompt 1:\")\n",
        "print(prompt1)\n",
        "\n",
        "# Prompt 2: Get items with price over 300\n",
        "high_price_items = df[df['Price'] > 300]['Item ID'].tolist()\n",
        "prompt2 = f\"List the Item IDs for fashion items with a price over 300: {high_price_items}\"\n",
        "print(\"\\nPrompt 2:\")\n",
        "print(prompt2)\n",
        "\n",
        "# Prompt 3: Get items targeted at New Employees\n",
        "new_employee_items = df[df['Target Customer'] == 'New Employee']['Item ID'].tolist()\n",
        "prompt3 = f\"List the Item IDs for fashion items targeted at 'New Employee': {new_employee_items}\"\n",
        "print(\"\\nPrompt 3:\")\n",
        "print(prompt3)"
      ],
      "execution_count": null,
      "outputs": [
        {
          "output_type": "stream",
          "name": "stdout",
          "text": [
            "Prompt 1:\n",
            "List all available categories in the fashion items dataset: ['Sweater', 'Bag', 'Shorts', 'Jacket', 'Dress', 'Shoes', 'T-shirt', 'Hat', 'Skirt', 'Jeans']\n",
            "\n",
            "Prompt 2:\n",
            "List the Item IDs for fashion items with a price over 300: ['ITEM004', 'ITEM006', 'ITEM009', 'ITEM010', 'ITEM016', 'ITEM018', 'ITEM020', 'ITEM026', 'ITEM028', 'ITEM029', 'ITEM030', 'ITEM031', 'ITEM032', 'ITEM039', 'ITEM040', 'ITEM045', 'ITEM046', 'ITEM052', 'ITEM054', 'ITEM056', 'ITEM057', 'ITEM059', 'ITEM061', 'ITEM062', 'ITEM063', 'ITEM065', 'ITEM066', 'ITEM068', 'ITEM075', 'ITEM079', 'ITEM080', 'ITEM081', 'ITEM084', 'ITEM086', 'ITEM089', 'ITEM090', 'ITEM091', 'ITEM099']\n",
            "\n",
            "Prompt 3:\n",
            "List the Item IDs for fashion items targeted at 'New Employee': ['ITEM001', 'ITEM003', 'ITEM007', 'ITEM010', 'ITEM011', 'ITEM014', 'ITEM016', 'ITEM018', 'ITEM026', 'ITEM033', 'ITEM037', 'ITEM040', 'ITEM041', 'ITEM043', 'ITEM044', 'ITEM045', 'ITEM049', 'ITEM050', 'ITEM060', 'ITEM061', 'ITEM063', 'ITEM064', 'ITEM067', 'ITEM073', 'ITEM076', 'ITEM079', 'ITEM081', 'ITEM085', 'ITEM086', 'ITEM087', 'ITEM089', 'ITEM090', 'ITEM095', 'ITEM097', 'ITEM098', 'ITEM099']\n"
          ]
        }
      ]
    },
    {
      "cell_type": "code",
      "metadata": {
        "colab": {
          "base_uri": "https://localhost:8080/"
        },
        "id": "c02c2a13",
        "outputId": "c5cdeabb-0c17-484c-a30d-c5b9491ff174"
      },
      "source": [
        "prompt1 = \"\"\"\n",
        "# Enter your first prompt here\n",
        "\"\"\"\n",
        "print(\"Prompt 1:\")\n",
        "print(prompt1)"
      ],
      "execution_count": null,
      "outputs": [
        {
          "output_type": "stream",
          "name": "stdout",
          "text": [
            "Prompt 1:\n",
            "\n",
            "# Enter your first prompt here\n",
            "\n"
          ]
        }
      ]
    },
    {
      "cell_type": "code",
      "metadata": {
        "colab": {
          "base_uri": "https://localhost:8080/"
        },
        "id": "3fdc1a78",
        "outputId": "a0a41aaf-ca22-4bd8-d3b4-0cee924a0ff8"
      },
      "source": [
        "prompt2 = \"\"\"\n",
        "# Enter your second prompt here\n",
        "\"\"\"\n",
        "print(\"\\nPrompt 2:\")\n",
        "print(prompt2)"
      ],
      "execution_count": null,
      "outputs": [
        {
          "output_type": "stream",
          "name": "stdout",
          "text": [
            "\n",
            "Prompt 2:\n",
            "\n",
            "# Enter your second prompt here\n",
            "\n"
          ]
        }
      ]
    },
    {
      "cell_type": "code",
      "metadata": {
        "colab": {
          "base_uri": "https://localhost:8080/"
        },
        "id": "38e2f969",
        "outputId": "7f0bc0af-4778-4975-b922-371400f098ea"
      },
      "source": [
        "prompt3 = \"\"\"\n",
        "# Enter your third prompt here\n",
        "\"\"\"\n",
        "print(\"\\nPrompt 3:\")\n",
        "print(prompt3)"
      ],
      "execution_count": null,
      "outputs": [
        {
          "output_type": "stream",
          "name": "stdout",
          "text": [
            "\n",
            "Prompt 3:\n",
            "\n",
            "# Enter your third prompt here\n",
            "\n"
          ]
        }
      ]
    },
    {
      "cell_type": "code",
      "metadata": {
        "colab": {
          "base_uri": "https://localhost:8080/",
          "height": 1000
        },
        "id": "52153f0e",
        "outputId": "dbee9caf-6926-4cc2-b8c5-c47c1a750045"
      },
      "source": [
        "# Get Gemini response for Prompt 1\n",
        "response1 = Generate_Content(prompt1)\n",
        "print(\"\\nGemini Response for Prompt 1:\")\n",
        "print(response1)\n",
        "\n",
        "# Get Gemini response for Prompt 2\n",
        "response2 = Generate_Content(prompt2)\n",
        "print(\"\\nGemini Response for Prompt 2:\")\n",
        "print(response2)\n",
        "\n",
        "# Get Gemini response for Prompt 3\n",
        "response3 = Generate_Content(prompt3)\n",
        "print(\"\\nGemini Response for Prompt 3:\")\n",
        "print(response3)"
      ],
      "execution_count": null,
      "outputs": [
        {
          "output_type": "stream",
          "name": "stdout",
          "text": [
            "\n",
            "Gemini Response for Prompt 1:\n",
            "The available categories in the fashion items dataset are:\n",
            "\n",
            "*   Sweater\n",
            "*   Bag\n",
            "*   Shorts\n",
            "*   Jacket\n",
            "*   Dress\n",
            "*   Shoes\n",
            "*   T-shirt\n",
            "*   Hat\n",
            "*   Skirt\n",
            "*   Jeans\n",
            "\n",
            "\n",
            "Gemini Response for Prompt 2:\n",
            "Okay, based on the provided list, here are the item IDs of fashion items with a price over 300:\n",
            "\n",
            "*   ITEM004\n",
            "*   ITEM006\n",
            "*   ITEM009\n",
            "*   ITEM010\n",
            "*   ITEM016\n",
            "*   ITEM018\n",
            "*   ITEM020\n",
            "*   ITEM026\n",
            "*   ITEM028\n",
            "*   ITEM029\n",
            "*   ITEM030\n",
            "*   ITEM031\n",
            "*   ITEM032\n",
            "*   ITEM039\n",
            "*   ITEM040\n",
            "*   ITEM045\n",
            "*   ITEM046\n",
            "*   ITEM052\n",
            "*   ITEM054\n",
            "*   ITEM056\n",
            "*   ITEM057\n",
            "*   ITEM059\n",
            "*   ITEM061\n",
            "*   ITEM062\n",
            "*   ITEM063\n",
            "*   ITEM065\n",
            "*   ITEM066\n",
            "*   ITEM068\n",
            "*   ITEM075\n",
            "*   ITEM079\n",
            "*   ITEM080\n",
            "*   ITEM081\n",
            "*   ITEM084\n",
            "*   ITEM086\n",
            "*   ITEM089\n",
            "*   ITEM090\n",
            "*   ITEM091\n",
            "*   ITEM099\n",
            "\n",
            "Gemini Response for Prompt 3:\n",
            "Okay, I have the list of Item IDs you requested:\n",
            "\n",
            "*   ITEM001\n",
            "*   ITEM003\n",
            "*   ITEM007\n",
            "*   ITEM010\n",
            "*   ITEM011\n",
            "*   ITEM014\n",
            "*   ITEM016\n",
            "*   ITEM018\n",
            "*   ITEM026\n",
            "*   ITEM033\n",
            "*   ITEM037\n",
            "*   ITEM040\n",
            "*   ITEM041\n",
            "*   ITEM043\n",
            "*   ITEM044\n",
            "*   ITEM045\n",
            "*   ITEM049\n",
            "*   ITEM050\n",
            "*   ITEM060\n",
            "*   ITEM061\n",
            "*   ITEM063\n",
            "*   ITEM064\n",
            "*   ITEM067\n",
            "*   ITEM073\n",
            "*   ITEM076\n",
            "*   ITEM079\n",
            "*   ITEM081\n",
            "*   ITEM085\n",
            "*   ITEM086\n",
            "*   ITEM087\n",
            "*   ITEM089\n",
            "*   ITEM090\n",
            "*   ITEM095\n",
            "*   ITEM097\n",
            "*   ITEM098\n",
            "*   ITEM099\n",
            "\n"
          ]
        }
      ]
    },
    {
      "cell_type": "code",
      "metadata": {
        "colab": {
          "base_uri": "https://localhost:8080/",
          "height": 391
        },
        "id": "b951e127",
        "outputId": "0f70a3f8-e506-42a9-f10f-b64d996e9a8c"
      },
      "source": [
        "# Get Gemini response for Prompt 1\n",
        "response1 = Generate_Content(prompt1)\n",
        "print(\"\\nGemini Response for Prompt 1:\")\n",
        "print(response1)\n",
        "\n",
        "# Get Gemini response for Prompt 2\n",
        "response2 = Generate_Content(prompt2)\n",
        "print(\"\\nGemini Response for Prompt 2:\")\n",
        "print(response2)\n",
        "\n",
        "# Get Gemini response for Prompt 3\n",
        "response3 = Generate_Content(prompt3)\n",
        "print(\"\\nGemini Response for Prompt 3:\")\n",
        "print(response3)"
      ],
      "execution_count": null,
      "outputs": [
        {
          "output_type": "error",
          "ename": "DefaultCredentialsError",
          "evalue": "\n  No API_KEY or ADC found. Please either:\n    - Set the `GOOGLE_API_KEY` environment variable.\n    - Manually pass the key with `genai.configure(api_key=my_api_key)`.\n    - Or set up Application Default Credentials, see https://ai.google.dev/gemini-api/docs/oauth for more information.",
          "traceback": [
            "\u001b[0;31m---------------------------------------------------------------------------\u001b[0m",
            "\u001b[0;31mDefaultCredentialsError\u001b[0m                   Traceback (most recent call last)",
            "\u001b[0;32m/tmp/ipython-input-3437403109.py\u001b[0m in \u001b[0;36m<cell line: 0>\u001b[0;34m()\u001b[0m\n\u001b[1;32m      1\u001b[0m \u001b[0;31m# Get Gemini response for Prompt 1\u001b[0m\u001b[0;34m\u001b[0m\u001b[0;34m\u001b[0m\u001b[0m\n\u001b[0;32m----> 2\u001b[0;31m \u001b[0mresponse1\u001b[0m \u001b[0;34m=\u001b[0m \u001b[0mGenerate_Content\u001b[0m\u001b[0;34m(\u001b[0m\u001b[0mprompt1\u001b[0m\u001b[0;34m)\u001b[0m\u001b[0;34m\u001b[0m\u001b[0;34m\u001b[0m\u001b[0m\n\u001b[0m\u001b[1;32m      3\u001b[0m \u001b[0mprint\u001b[0m\u001b[0;34m(\u001b[0m\u001b[0;34m\"\\nGemini Response for Prompt 1:\"\u001b[0m\u001b[0;34m)\u001b[0m\u001b[0;34m\u001b[0m\u001b[0;34m\u001b[0m\u001b[0m\n\u001b[1;32m      4\u001b[0m \u001b[0mprint\u001b[0m\u001b[0;34m(\u001b[0m\u001b[0mresponse1\u001b[0m\u001b[0;34m)\u001b[0m\u001b[0;34m\u001b[0m\u001b[0;34m\u001b[0m\u001b[0m\n\u001b[1;32m      5\u001b[0m \u001b[0;34m\u001b[0m\u001b[0m\n",
            "\u001b[0;32m/tmp/ipython-input-2836064649.py\u001b[0m in \u001b[0;36mGenerate_Content\u001b[0;34m(prompt)\u001b[0m\n\u001b[1;32m     10\u001b[0m    \u001b[0mchat\u001b[0m \u001b[0;34m=\u001b[0m \u001b[0mmodel\u001b[0m\u001b[0;34m.\u001b[0m\u001b[0mstart_chat\u001b[0m\u001b[0;34m(\u001b[0m\u001b[0mhistory\u001b[0m\u001b[0;34m=\u001b[0m\u001b[0;34m[\u001b[0m\u001b[0;34m]\u001b[0m\u001b[0;34m)\u001b[0m\u001b[0;34m\u001b[0m\u001b[0;34m\u001b[0m\u001b[0m\n\u001b[1;32m     11\u001b[0m \u001b[0;34m\u001b[0m\u001b[0m\n\u001b[0;32m---> 12\u001b[0;31m    \u001b[0mresponse\u001b[0m \u001b[0;34m=\u001b[0m \u001b[0mchat\u001b[0m\u001b[0;34m.\u001b[0m\u001b[0msend_message\u001b[0m\u001b[0;34m(\u001b[0m\u001b[0mprompt\u001b[0m\u001b[0;34m)\u001b[0m\u001b[0;34m\u001b[0m\u001b[0;34m\u001b[0m\u001b[0m\n\u001b[0m\u001b[1;32m     13\u001b[0m    \u001b[0mgemini_response\u001b[0m \u001b[0;34m=\u001b[0m \u001b[0mresponse\u001b[0m\u001b[0;34m.\u001b[0m\u001b[0mtext\u001b[0m\u001b[0;34m\u001b[0m\u001b[0;34m\u001b[0m\u001b[0m\n\u001b[1;32m     14\u001b[0m    \u001b[0;32mreturn\u001b[0m \u001b[0mgemini_response\u001b[0m\u001b[0;34m\u001b[0m\u001b[0;34m\u001b[0m\u001b[0m\n",
            "\u001b[0;32m/usr/local/lib/python3.12/dist-packages/google/generativeai/generative_models.py\u001b[0m in \u001b[0;36msend_message\u001b[0;34m(self, content, generation_config, safety_settings, stream, tools, tool_config, request_options)\u001b[0m\n\u001b[1;32m    576\u001b[0m             )\n\u001b[1;32m    577\u001b[0m \u001b[0;34m\u001b[0m\u001b[0m\n\u001b[0;32m--> 578\u001b[0;31m         response = self.model.generate_content(\n\u001b[0m\u001b[1;32m    579\u001b[0m             \u001b[0mcontents\u001b[0m\u001b[0;34m=\u001b[0m\u001b[0mhistory\u001b[0m\u001b[0;34m,\u001b[0m\u001b[0;34m\u001b[0m\u001b[0;34m\u001b[0m\u001b[0m\n\u001b[1;32m    580\u001b[0m             \u001b[0mgeneration_config\u001b[0m\u001b[0;34m=\u001b[0m\u001b[0mgeneration_config\u001b[0m\u001b[0;34m,\u001b[0m\u001b[0;34m\u001b[0m\u001b[0;34m\u001b[0m\u001b[0m\n",
            "\u001b[0;32m/usr/local/lib/python3.12/dist-packages/google/generativeai/generative_models.py\u001b[0m in \u001b[0;36mgenerate_content\u001b[0;34m(self, contents, generation_config, safety_settings, stream, tools, tool_config, request_options)\u001b[0m\n\u001b[1;32m    315\u001b[0m \u001b[0;34m\u001b[0m\u001b[0m\n\u001b[1;32m    316\u001b[0m         \u001b[0;32mif\u001b[0m \u001b[0mself\u001b[0m\u001b[0;34m.\u001b[0m\u001b[0m_client\u001b[0m \u001b[0;32mis\u001b[0m \u001b[0;32mNone\u001b[0m\u001b[0;34m:\u001b[0m\u001b[0;34m\u001b[0m\u001b[0;34m\u001b[0m\u001b[0m\n\u001b[0;32m--> 317\u001b[0;31m             \u001b[0mself\u001b[0m\u001b[0;34m.\u001b[0m\u001b[0m_client\u001b[0m \u001b[0;34m=\u001b[0m \u001b[0mclient\u001b[0m\u001b[0;34m.\u001b[0m\u001b[0mget_default_generative_client\u001b[0m\u001b[0;34m(\u001b[0m\u001b[0;34m)\u001b[0m\u001b[0;34m\u001b[0m\u001b[0;34m\u001b[0m\u001b[0m\n\u001b[0m\u001b[1;32m    318\u001b[0m \u001b[0;34m\u001b[0m\u001b[0m\n\u001b[1;32m    319\u001b[0m         \u001b[0;32mif\u001b[0m \u001b[0mrequest_options\u001b[0m \u001b[0;32mis\u001b[0m \u001b[0;32mNone\u001b[0m\u001b[0;34m:\u001b[0m\u001b[0;34m\u001b[0m\u001b[0;34m\u001b[0m\u001b[0m\n",
            "\u001b[0;32m/usr/local/lib/python3.12/dist-packages/google/generativeai/client.py\u001b[0m in \u001b[0;36mget_default_generative_client\u001b[0;34m()\u001b[0m\n\u001b[1;32m    358\u001b[0m \u001b[0;34m\u001b[0m\u001b[0m\n\u001b[1;32m    359\u001b[0m \u001b[0;32mdef\u001b[0m \u001b[0mget_default_generative_client\u001b[0m\u001b[0;34m(\u001b[0m\u001b[0;34m)\u001b[0m \u001b[0;34m->\u001b[0m \u001b[0mglm\u001b[0m\u001b[0;34m.\u001b[0m\u001b[0mGenerativeServiceClient\u001b[0m\u001b[0;34m:\u001b[0m\u001b[0;34m\u001b[0m\u001b[0;34m\u001b[0m\u001b[0m\n\u001b[0;32m--> 360\u001b[0;31m     \u001b[0;32mreturn\u001b[0m \u001b[0m_client_manager\u001b[0m\u001b[0;34m.\u001b[0m\u001b[0mget_default_client\u001b[0m\u001b[0;34m(\u001b[0m\u001b[0;34m\"generative\"\u001b[0m\u001b[0;34m)\u001b[0m\u001b[0;34m\u001b[0m\u001b[0;34m\u001b[0m\u001b[0m\n\u001b[0m\u001b[1;32m    361\u001b[0m \u001b[0;34m\u001b[0m\u001b[0m\n\u001b[1;32m    362\u001b[0m \u001b[0;34m\u001b[0m\u001b[0m\n",
            "\u001b[0;32m/usr/local/lib/python3.12/dist-packages/google/generativeai/client.py\u001b[0m in \u001b[0;36mget_default_client\u001b[0;34m(self, name)\u001b[0m\n\u001b[1;32m    287\u001b[0m         \u001b[0mclient\u001b[0m \u001b[0;34m=\u001b[0m \u001b[0mself\u001b[0m\u001b[0;34m.\u001b[0m\u001b[0mclients\u001b[0m\u001b[0;34m.\u001b[0m\u001b[0mget\u001b[0m\u001b[0;34m(\u001b[0m\u001b[0mname\u001b[0m\u001b[0;34m)\u001b[0m\u001b[0;34m\u001b[0m\u001b[0;34m\u001b[0m\u001b[0m\n\u001b[1;32m    288\u001b[0m         \u001b[0;32mif\u001b[0m \u001b[0mclient\u001b[0m \u001b[0;32mis\u001b[0m \u001b[0;32mNone\u001b[0m\u001b[0;34m:\u001b[0m\u001b[0;34m\u001b[0m\u001b[0;34m\u001b[0m\u001b[0m\n\u001b[0;32m--> 289\u001b[0;31m             \u001b[0mclient\u001b[0m \u001b[0;34m=\u001b[0m \u001b[0mself\u001b[0m\u001b[0;34m.\u001b[0m\u001b[0mmake_client\u001b[0m\u001b[0;34m(\u001b[0m\u001b[0mname\u001b[0m\u001b[0;34m)\u001b[0m\u001b[0;34m\u001b[0m\u001b[0;34m\u001b[0m\u001b[0m\n\u001b[0m\u001b[1;32m    290\u001b[0m             \u001b[0mself\u001b[0m\u001b[0;34m.\u001b[0m\u001b[0mclients\u001b[0m\u001b[0;34m[\u001b[0m\u001b[0mname\u001b[0m\u001b[0;34m]\u001b[0m \u001b[0;34m=\u001b[0m \u001b[0mclient\u001b[0m\u001b[0;34m\u001b[0m\u001b[0;34m\u001b[0m\u001b[0m\n\u001b[1;32m    291\u001b[0m         \u001b[0;32mreturn\u001b[0m \u001b[0mclient\u001b[0m\u001b[0;34m\u001b[0m\u001b[0;34m\u001b[0m\u001b[0m\n",
            "\u001b[0;32m/usr/local/lib/python3.12/dist-packages/google/generativeai/client.py\u001b[0m in \u001b[0;36mmake_client\u001b[0;34m(self, name)\u001b[0m\n\u001b[1;32m    247\u001b[0m                 \u001b[0;34m\"    - Or set up Application Default Credentials, see https://ai.google.dev/gemini-api/docs/oauth for more information.\"\u001b[0m\u001b[0;34m,\u001b[0m\u001b[0;34m\u001b[0m\u001b[0;34m\u001b[0m\u001b[0m\n\u001b[1;32m    248\u001b[0m             )\n\u001b[0;32m--> 249\u001b[0;31m             \u001b[0;32mraise\u001b[0m \u001b[0me\u001b[0m\u001b[0;34m\u001b[0m\u001b[0;34m\u001b[0m\u001b[0m\n\u001b[0m\u001b[1;32m    250\u001b[0m \u001b[0;34m\u001b[0m\u001b[0m\n\u001b[1;32m    251\u001b[0m         \u001b[0;32mif\u001b[0m \u001b[0;32mnot\u001b[0m \u001b[0mself\u001b[0m\u001b[0;34m.\u001b[0m\u001b[0mdefault_metadata\u001b[0m\u001b[0;34m:\u001b[0m\u001b[0;34m\u001b[0m\u001b[0;34m\u001b[0m\u001b[0m\n",
            "\u001b[0;32m/usr/local/lib/python3.12/dist-packages/google/generativeai/client.py\u001b[0m in \u001b[0;36mmake_client\u001b[0;34m(self, name)\u001b[0m\n\u001b[1;32m    239\u001b[0m         \u001b[0;32mtry\u001b[0m\u001b[0;34m:\u001b[0m\u001b[0;34m\u001b[0m\u001b[0;34m\u001b[0m\u001b[0m\n\u001b[1;32m    240\u001b[0m             \u001b[0;32mwith\u001b[0m \u001b[0mpatch_colab_gce_credentials\u001b[0m\u001b[0;34m(\u001b[0m\u001b[0;34m)\u001b[0m\u001b[0;34m:\u001b[0m\u001b[0;34m\u001b[0m\u001b[0;34m\u001b[0m\u001b[0m\n\u001b[0;32m--> 241\u001b[0;31m                 \u001b[0mclient\u001b[0m \u001b[0;34m=\u001b[0m \u001b[0mcls\u001b[0m\u001b[0;34m(\u001b[0m\u001b[0;34m**\u001b[0m\u001b[0mself\u001b[0m\u001b[0;34m.\u001b[0m\u001b[0mclient_config\u001b[0m\u001b[0;34m)\u001b[0m\u001b[0;34m\u001b[0m\u001b[0;34m\u001b[0m\u001b[0m\n\u001b[0m\u001b[1;32m    242\u001b[0m         \u001b[0;32mexcept\u001b[0m \u001b[0mga_exceptions\u001b[0m\u001b[0;34m.\u001b[0m\u001b[0mDefaultCredentialsError\u001b[0m \u001b[0;32mas\u001b[0m \u001b[0me\u001b[0m\u001b[0;34m:\u001b[0m\u001b[0;34m\u001b[0m\u001b[0;34m\u001b[0m\u001b[0m\n\u001b[1;32m    243\u001b[0m             e.args = (\n",
            "\u001b[0;32m/usr/local/lib/python3.12/dist-packages/google/ai/generativelanguage_v1beta/services/generative_service/client.py\u001b[0m in \u001b[0;36m__init__\u001b[0;34m(self, credentials, transport, client_options, client_info)\u001b[0m\n\u001b[1;32m    665\u001b[0m             )\n\u001b[1;32m    666\u001b[0m             \u001b[0;31m# initialize with the provided callable or the passed in class\u001b[0m\u001b[0;34m\u001b[0m\u001b[0;34m\u001b[0m\u001b[0m\n\u001b[0;32m--> 667\u001b[0;31m             self._transport = transport_init(\n\u001b[0m\u001b[1;32m    668\u001b[0m                 \u001b[0mcredentials\u001b[0m\u001b[0;34m=\u001b[0m\u001b[0mcredentials\u001b[0m\u001b[0;34m,\u001b[0m\u001b[0;34m\u001b[0m\u001b[0;34m\u001b[0m\u001b[0m\n\u001b[1;32m    669\u001b[0m                 \u001b[0mcredentials_file\u001b[0m\u001b[0;34m=\u001b[0m\u001b[0mself\u001b[0m\u001b[0;34m.\u001b[0m\u001b[0m_client_options\u001b[0m\u001b[0;34m.\u001b[0m\u001b[0mcredentials_file\u001b[0m\u001b[0;34m,\u001b[0m\u001b[0;34m\u001b[0m\u001b[0;34m\u001b[0m\u001b[0m\n",
            "\u001b[0;32m/usr/local/lib/python3.12/dist-packages/google/ai/generativelanguage_v1beta/services/generative_service/transports/grpc.py\u001b[0m in \u001b[0;36m__init__\u001b[0;34m(self, host, credentials, credentials_file, scopes, channel, api_mtls_endpoint, client_cert_source, ssl_channel_credentials, client_cert_source_for_mtls, quota_project_id, client_info, always_use_jwt_access, api_audience)\u001b[0m\n\u001b[1;32m    233\u001b[0m \u001b[0;34m\u001b[0m\u001b[0m\n\u001b[1;32m    234\u001b[0m         \u001b[0;31m# The base transport sets the host, credentials and scopes\u001b[0m\u001b[0;34m\u001b[0m\u001b[0;34m\u001b[0m\u001b[0m\n\u001b[0;32m--> 235\u001b[0;31m         super().__init__(\n\u001b[0m\u001b[1;32m    236\u001b[0m             \u001b[0mhost\u001b[0m\u001b[0;34m=\u001b[0m\u001b[0mhost\u001b[0m\u001b[0;34m,\u001b[0m\u001b[0;34m\u001b[0m\u001b[0;34m\u001b[0m\u001b[0m\n\u001b[1;32m    237\u001b[0m             \u001b[0mcredentials\u001b[0m\u001b[0;34m=\u001b[0m\u001b[0mcredentials\u001b[0m\u001b[0;34m,\u001b[0m\u001b[0;34m\u001b[0m\u001b[0;34m\u001b[0m\u001b[0m\n",
            "\u001b[0;32m/usr/local/lib/python3.12/dist-packages/google/ai/generativelanguage_v1beta/services/generative_service/transports/base.py\u001b[0m in \u001b[0;36m__init__\u001b[0;34m(self, host, credentials, credentials_file, scopes, quota_project_id, client_info, always_use_jwt_access, api_audience, **kwargs)\u001b[0m\n\u001b[1;32m     98\u001b[0m             )\n\u001b[1;32m     99\u001b[0m         \u001b[0;32melif\u001b[0m \u001b[0mcredentials\u001b[0m \u001b[0;32mis\u001b[0m \u001b[0;32mNone\u001b[0m \u001b[0;32mand\u001b[0m \u001b[0;32mnot\u001b[0m \u001b[0mself\u001b[0m\u001b[0;34m.\u001b[0m\u001b[0m_ignore_credentials\u001b[0m\u001b[0;34m:\u001b[0m\u001b[0;34m\u001b[0m\u001b[0;34m\u001b[0m\u001b[0m\n\u001b[0;32m--> 100\u001b[0;31m             credentials, _ = google.auth.default(\n\u001b[0m\u001b[1;32m    101\u001b[0m                 \u001b[0;34m**\u001b[0m\u001b[0mscopes_kwargs\u001b[0m\u001b[0;34m,\u001b[0m \u001b[0mquota_project_id\u001b[0m\u001b[0;34m=\u001b[0m\u001b[0mquota_project_id\u001b[0m\u001b[0;34m\u001b[0m\u001b[0;34m\u001b[0m\u001b[0m\n\u001b[1;32m    102\u001b[0m             )\n",
            "\u001b[0;32m/usr/local/lib/python3.12/dist-packages/google/auth/_default.py\u001b[0m in \u001b[0;36mdefault\u001b[0;34m(scopes, request, quota_project_id, default_scopes)\u001b[0m\n\u001b[1;32m    717\u001b[0m             \u001b[0;32mreturn\u001b[0m \u001b[0mcredentials\u001b[0m\u001b[0;34m,\u001b[0m \u001b[0meffective_project_id\u001b[0m\u001b[0;34m\u001b[0m\u001b[0;34m\u001b[0m\u001b[0m\n\u001b[1;32m    718\u001b[0m \u001b[0;34m\u001b[0m\u001b[0m\n\u001b[0;32m--> 719\u001b[0;31m     \u001b[0;32mraise\u001b[0m \u001b[0mexceptions\u001b[0m\u001b[0;34m.\u001b[0m\u001b[0mDefaultCredentialsError\u001b[0m\u001b[0;34m(\u001b[0m\u001b[0m_CLOUD_SDK_MISSING_CREDENTIALS\u001b[0m\u001b[0;34m)\u001b[0m\u001b[0;34m\u001b[0m\u001b[0;34m\u001b[0m\u001b[0m\n\u001b[0m",
            "\u001b[0;31mDefaultCredentialsError\u001b[0m: \n  No API_KEY or ADC found. Please either:\n    - Set the `GOOGLE_API_KEY` environment variable.\n    - Manually pass the key with `genai.configure(api_key=my_api_key)`.\n    - Or set up Application Default Credentials, see https://ai.google.dev/gemini-api/docs/oauth for more information."
          ]
        }
      ]
    },
    {
      "cell_type": "code",
      "metadata": {
        "colab": {
          "base_uri": "https://localhost:8080/"
        },
        "id": "f343c22a",
        "outputId": "8b2d5a5c-92fb-4923-81fc-fcdb3388456d"
      },
      "source": [
        "# Prompt 1: Get all unique categories\n",
        "categories = df['Category'].unique().tolist()\n",
        "prompt1 = f\"List all available categories in the fashion items dataset: {categories}\"\n",
        "print(\"Prompt 1:\")\n",
        "print(prompt1)\n",
        "\n",
        "# Prompt 2: Get items with price over 300\n",
        "high_price_items = df[df['Price'] > 300]['Item ID'].tolist()\n",
        "prompt2 = f\"List the Item IDs for fashion items with a price over 300: {high_price_items}\"\n",
        "print(\"\\nPrompt 2:\")\n",
        "print(prompt2)\n",
        "\n",
        "# Prompt 3: Get items targeted at New Employees\n",
        "new_employee_items = df[df['Target Customer'] == 'New Employee']['Item ID'].tolist()\n",
        "prompt3 = f\"List the Item IDs for fashion items targeted at 'New Employee': {new_employee_items}\"\n",
        "print(\"\\nPrompt 3:\")\n",
        "print(prompt3)"
      ],
      "execution_count": null,
      "outputs": [
        {
          "output_type": "stream",
          "name": "stdout",
          "text": [
            "Prompt 1:\n",
            "List all available categories in the fashion items dataset: ['Sweater', 'Bag', 'Shorts', 'Jacket', 'Dress', 'Shoes', 'T-shirt', 'Hat', 'Skirt', 'Jeans']\n",
            "\n",
            "Prompt 2:\n",
            "List the Item IDs for fashion items with a price over 300: ['ITEM004', 'ITEM006', 'ITEM009', 'ITEM010', 'ITEM016', 'ITEM018', 'ITEM020', 'ITEM026', 'ITEM028', 'ITEM029', 'ITEM030', 'ITEM031', 'ITEM032', 'ITEM039', 'ITEM040', 'ITEM045', 'ITEM046', 'ITEM052', 'ITEM054', 'ITEM056', 'ITEM057', 'ITEM059', 'ITEM061', 'ITEM062', 'ITEM063', 'ITEM065', 'ITEM066', 'ITEM068', 'ITEM075', 'ITEM079', 'ITEM080', 'ITEM081', 'ITEM084', 'ITEM086', 'ITEM089', 'ITEM090', 'ITEM091', 'ITEM099']\n",
            "\n",
            "Prompt 3:\n",
            "List the Item IDs for fashion items targeted at 'New Employee': ['ITEM001', 'ITEM003', 'ITEM007', 'ITEM010', 'ITEM011', 'ITEM014', 'ITEM016', 'ITEM018', 'ITEM026', 'ITEM033', 'ITEM037', 'ITEM040', 'ITEM041', 'ITEM043', 'ITEM044', 'ITEM045', 'ITEM049', 'ITEM050', 'ITEM060', 'ITEM061', 'ITEM063', 'ITEM064', 'ITEM067', 'ITEM073', 'ITEM076', 'ITEM079', 'ITEM081', 'ITEM085', 'ITEM086', 'ITEM087', 'ITEM089', 'ITEM090', 'ITEM095', 'ITEM097', 'ITEM098', 'ITEM099']\n"
          ]
        }
      ]
    },
    {
      "cell_type": "code",
      "source": [
        "from google.colab import files\n",
        "uploaded = files.upload()\n",
        "import pandas as pd\n",
        "\n",
        "df = pd.read_csv('fashion_items.csv')\n",
        "print(df.head())"
      ],
      "metadata": {
        "colab": {
          "base_uri": "https://localhost:8080/",
          "height": 299
        },
        "id": "nd3dPKL2mUt1",
        "outputId": "e9a53728-5ab1-4204-ce8b-801ce3a2703f"
      },
      "execution_count": null,
      "outputs": [
        {
          "output_type": "display_data",
          "data": {
            "text/plain": [
              "<IPython.core.display.HTML object>"
            ],
            "text/html": [
              "\n",
              "     <input type=\"file\" id=\"files-33d00395-10f8-4a9a-8f38-128430daa16b\" name=\"files[]\" multiple disabled\n",
              "        style=\"border:none\" />\n",
              "     <output id=\"result-33d00395-10f8-4a9a-8f38-128430daa16b\">\n",
              "      Upload widget is only available when the cell has been executed in the\n",
              "      current browser session. Please rerun this cell to enable.\n",
              "      </output>\n",
              "      <script>// Copyright 2017 Google LLC\n",
              "//\n",
              "// Licensed under the Apache License, Version 2.0 (the \"License\");\n",
              "// you may not use this file except in compliance with the License.\n",
              "// You may obtain a copy of the License at\n",
              "//\n",
              "//      http://www.apache.org/licenses/LICENSE-2.0\n",
              "//\n",
              "// Unless required by applicable law or agreed to in writing, software\n",
              "// distributed under the License is distributed on an \"AS IS\" BASIS,\n",
              "// WITHOUT WARRANTIES OR CONDITIONS OF ANY KIND, either express or implied.\n",
              "// See the License for the specific language governing permissions and\n",
              "// limitations under the License.\n",
              "\n",
              "/**\n",
              " * @fileoverview Helpers for google.colab Python module.\n",
              " */\n",
              "(function(scope) {\n",
              "function span(text, styleAttributes = {}) {\n",
              "  const element = document.createElement('span');\n",
              "  element.textContent = text;\n",
              "  for (const key of Object.keys(styleAttributes)) {\n",
              "    element.style[key] = styleAttributes[key];\n",
              "  }\n",
              "  return element;\n",
              "}\n",
              "\n",
              "// Max number of bytes which will be uploaded at a time.\n",
              "const MAX_PAYLOAD_SIZE = 100 * 1024;\n",
              "\n",
              "function _uploadFiles(inputId, outputId) {\n",
              "  const steps = uploadFilesStep(inputId, outputId);\n",
              "  const outputElement = document.getElementById(outputId);\n",
              "  // Cache steps on the outputElement to make it available for the next call\n",
              "  // to uploadFilesContinue from Python.\n",
              "  outputElement.steps = steps;\n",
              "\n",
              "  return _uploadFilesContinue(outputId);\n",
              "}\n",
              "\n",
              "// This is roughly an async generator (not supported in the browser yet),\n",
              "// where there are multiple asynchronous steps and the Python side is going\n",
              "// to poll for completion of each step.\n",
              "// This uses a Promise to block the python side on completion of each step,\n",
              "// then passes the result of the previous step as the input to the next step.\n",
              "function _uploadFilesContinue(outputId) {\n",
              "  const outputElement = document.getElementById(outputId);\n",
              "  const steps = outputElement.steps;\n",
              "\n",
              "  const next = steps.next(outputElement.lastPromiseValue);\n",
              "  return Promise.resolve(next.value.promise).then((value) => {\n",
              "    // Cache the last promise value to make it available to the next\n",
              "    // step of the generator.\n",
              "    outputElement.lastPromiseValue = value;\n",
              "    return next.value.response;\n",
              "  });\n",
              "}\n",
              "\n",
              "/**\n",
              " * Generator function which is called between each async step of the upload\n",
              " * process.\n",
              " * @param {string} inputId Element ID of the input file picker element.\n",
              " * @param {string} outputId Element ID of the output display.\n",
              " * @return {!Iterable<!Object>} Iterable of next steps.\n",
              " */\n",
              "function* uploadFilesStep(inputId, outputId) {\n",
              "  const inputElement = document.getElementById(inputId);\n",
              "  inputElement.disabled = false;\n",
              "\n",
              "  const outputElement = document.getElementById(outputId);\n",
              "  outputElement.innerHTML = '';\n",
              "\n",
              "  const pickedPromise = new Promise((resolve) => {\n",
              "    inputElement.addEventListener('change', (e) => {\n",
              "      resolve(e.target.files);\n",
              "    });\n",
              "  });\n",
              "\n",
              "  const cancel = document.createElement('button');\n",
              "  inputElement.parentElement.appendChild(cancel);\n",
              "  cancel.textContent = 'Cancel upload';\n",
              "  const cancelPromise = new Promise((resolve) => {\n",
              "    cancel.onclick = () => {\n",
              "      resolve(null);\n",
              "    };\n",
              "  });\n",
              "\n",
              "  // Wait for the user to pick the files.\n",
              "  const files = yield {\n",
              "    promise: Promise.race([pickedPromise, cancelPromise]),\n",
              "    response: {\n",
              "      action: 'starting',\n",
              "    }\n",
              "  };\n",
              "\n",
              "  cancel.remove();\n",
              "\n",
              "  // Disable the input element since further picks are not allowed.\n",
              "  inputElement.disabled = true;\n",
              "\n",
              "  if (!files) {\n",
              "    return {\n",
              "      response: {\n",
              "        action: 'complete',\n",
              "      }\n",
              "    };\n",
              "  }\n",
              "\n",
              "  for (const file of files) {\n",
              "    const li = document.createElement('li');\n",
              "    li.append(span(file.name, {fontWeight: 'bold'}));\n",
              "    li.append(span(\n",
              "        `(${file.type || 'n/a'}) - ${file.size} bytes, ` +\n",
              "        `last modified: ${\n",
              "            file.lastModifiedDate ? file.lastModifiedDate.toLocaleDateString() :\n",
              "                                    'n/a'} - `));\n",
              "    const percent = span('0% done');\n",
              "    li.appendChild(percent);\n",
              "\n",
              "    outputElement.appendChild(li);\n",
              "\n",
              "    const fileDataPromise = new Promise((resolve) => {\n",
              "      const reader = new FileReader();\n",
              "      reader.onload = (e) => {\n",
              "        resolve(e.target.result);\n",
              "      };\n",
              "      reader.readAsArrayBuffer(file);\n",
              "    });\n",
              "    // Wait for the data to be ready.\n",
              "    let fileData = yield {\n",
              "      promise: fileDataPromise,\n",
              "      response: {\n",
              "        action: 'continue',\n",
              "      }\n",
              "    };\n",
              "\n",
              "    // Use a chunked sending to avoid message size limits. See b/62115660.\n",
              "    let position = 0;\n",
              "    do {\n",
              "      const length = Math.min(fileData.byteLength - position, MAX_PAYLOAD_SIZE);\n",
              "      const chunk = new Uint8Array(fileData, position, length);\n",
              "      position += length;\n",
              "\n",
              "      const base64 = btoa(String.fromCharCode.apply(null, chunk));\n",
              "      yield {\n",
              "        response: {\n",
              "          action: 'append',\n",
              "          file: file.name,\n",
              "          data: base64,\n",
              "        },\n",
              "      };\n",
              "\n",
              "      let percentDone = fileData.byteLength === 0 ?\n",
              "          100 :\n",
              "          Math.round((position / fileData.byteLength) * 100);\n",
              "      percent.textContent = `${percentDone}% done`;\n",
              "\n",
              "    } while (position < fileData.byteLength);\n",
              "  }\n",
              "\n",
              "  // All done.\n",
              "  yield {\n",
              "    response: {\n",
              "      action: 'complete',\n",
              "    }\n",
              "  };\n",
              "}\n",
              "\n",
              "scope.google = scope.google || {};\n",
              "scope.google.colab = scope.google.colab || {};\n",
              "scope.google.colab._files = {\n",
              "  _uploadFiles,\n",
              "  _uploadFilesContinue,\n",
              "};\n",
              "})(self);\n",
              "</script> "
            ]
          },
          "metadata": {}
        },
        {
          "output_type": "stream",
          "name": "stdout",
          "text": [
            "Saving fashion_items.csv to fashion_items.csv\n",
            "   Item ID Category   Brand   Price   Color Size  Target Customer  \\\n",
            "0  ITEM001  Sweater  Levi's  106.91   Black    S     New Employee   \n",
            "1  ITEM002      Bag    Zara  241.95   Brown    L  College Student   \n",
            "2  ITEM003   Shorts     H&M  128.32   Brown  XXL     New Employee   \n",
            "3  ITEM004   Jacket    Nike  333.60  Yellow   XL  College Student   \n",
            "4  ITEM005      Bag    Nike  203.42    Pink   XL  College Student   \n",
            "\n",
            "                                         Description  \n",
            "0  A stylish black sweater from Levi's suitable f...  \n",
            "1  A stylish brown bag from Zara suitable for col...  \n",
            "2  A stylish brown shorts from H&M suitable for n...  \n",
            "3  A stylish yellow jacket from Nike suitable for...  \n",
            "4  A stylish pink bag from Nike suitable for coll...  \n"
          ]
        }
      ]
    }
  ]
}